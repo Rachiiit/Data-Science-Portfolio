{
 "cells": [
  {
   "cell_type": "markdown",
   "id": "significant-velvet",
   "metadata": {},
   "source": [
    "This is how we take input in Python"
   ]
  },
  {
   "cell_type": "code",
   "execution_count": 1,
   "id": "automatic-nature",
   "metadata": {},
   "outputs": [
    {
     "name": "stdout",
     "output_type": "stream",
     "text": [
      "Hello HiendWorld\n"
     ]
    }
   ],
   "source": [
    "print(\"Hello\", \"Hi\",end = \"end\")\n",
    "print(\"World\")"
   ]
  },
  {
   "cell_type": "code",
   "execution_count": 2,
   "id": "unique-letter",
   "metadata": {},
   "outputs": [
    {
     "name": "stdout",
     "output_type": "stream",
     "text": [
      "x\n"
     ]
    }
   ],
   "source": [
    "x = 9\n",
    "print(\"x\")"
   ]
  },
  {
   "cell_type": "code",
   "execution_count": 3,
   "id": "demographic-endorsement",
   "metadata": {},
   "outputs": [
    {
     "name": "stdout",
     "output_type": "stream",
     "text": [
      "Enter Science marks: 10\n",
      "Enter Maths marks: 20\n"
     ]
    }
   ],
   "source": [
    "d = input(\"Enter Science marks: \")\n",
    "e = input(\"Enter Maths marks: \")"
   ]
  },
  {
   "cell_type": "code",
   "execution_count": 4,
   "id": "extensive-camera",
   "metadata": {},
   "outputs": [
    {
     "name": "stdout",
     "output_type": "stream",
     "text": [
      "10\n"
     ]
    }
   ],
   "source": [
    "print(d)"
   ]
  },
  {
   "cell_type": "code",
   "execution_count": 5,
   "id": "minimal-banks",
   "metadata": {},
   "outputs": [
    {
     "name": "stdout",
     "output_type": "stream",
     "text": [
      "9 10\n"
     ]
    }
   ],
   "source": [
    "x, y = 9, 10\n",
    "print(x, y)"
   ]
  },
  {
   "cell_type": "code",
   "execution_count": 8,
   "id": "sharing-alexander",
   "metadata": {},
   "outputs": [
    {
     "name": "stdout",
     "output_type": "stream",
     "text": [
      "<class 'int'>\n"
     ]
    }
   ],
   "source": [
    "x = 10\n",
    "print(type(x))"
   ]
  },
  {
   "cell_type": "code",
   "execution_count": 9,
   "id": "afraid-correlation",
   "metadata": {},
   "outputs": [
    {
     "name": "stdout",
     "output_type": "stream",
     "text": [
      "<class 'float'>\n"
     ]
    }
   ],
   "source": [
    "# f = 10.0\n",
    "print(type(f))"
   ]
  },
  {
   "cell_type": "code",
   "execution_count": 11,
   "id": "pacific-aspect",
   "metadata": {},
   "outputs": [
    {
     "name": "stdout",
     "output_type": "stream",
     "text": [
      "<class 'complex'>\n"
     ]
    }
   ],
   "source": [
    "c = 1 - 7j\n",
    "print(type(c))"
   ]
  },
  {
   "cell_type": "code",
   "execution_count": 22,
   "id": "geographic-ending",
   "metadata": {},
   "outputs": [
    {
     "data": {
      "text/plain": [
       "bool"
      ]
     },
     "execution_count": 22,
     "metadata": {},
     "output_type": "execute_result"
    }
   ],
   "source": [
    "b = True  #False\n",
    "type(b)"
   ]
  },
  {
   "cell_type": "code",
   "execution_count": 15,
   "id": "hawaiian-variable",
   "metadata": {},
   "outputs": [
    {
     "name": "stdout",
     "output_type": "stream",
     "text": [
      "Hello\n",
      "World\n"
     ]
    }
   ],
   "source": [
    "s = \"Hello\"\n",
    "s1 = 'Hello'\n",
    "s2 = \"Let's go for a walk\"\n",
    "s3 = 'He said, \"We will come\".'\n",
    "\n",
    "s4 = \"\"\"Hello\n",
    "World\"\"\"\n",
    "\n",
    "s5 = '''Hello\n",
    "World'''\n",
    "print(s5)"
   ]
  },
  {
   "cell_type": "code",
   "execution_count": 30,
   "id": "equipped-dietary",
   "metadata": {},
   "outputs": [],
   "source": [
    "# \"\"\"teragealjrnkheagellkejnoe4\n",
    "# ;lnjmg;ergegemrge\"\"\""
   ]
  },
  {
   "cell_type": "code",
   "execution_count": null,
   "id": "medieval-documentation",
   "metadata": {},
   "outputs": [],
   "source": []
  }
 ],
 "metadata": {
  "kernelspec": {
   "display_name": "Python 3 (ipykernel)",
   "language": "python",
   "name": "python3"
  },
  "language_info": {
   "codemirror_mode": {
    "name": "ipython",
    "version": 3
   },
   "file_extension": ".py",
   "mimetype": "text/x-python",
   "name": "python",
   "nbconvert_exporter": "python",
   "pygments_lexer": "ipython3",
   "version": "3.9.6"
  }
 },
 "nbformat": 4,
 "nbformat_minor": 5
}
