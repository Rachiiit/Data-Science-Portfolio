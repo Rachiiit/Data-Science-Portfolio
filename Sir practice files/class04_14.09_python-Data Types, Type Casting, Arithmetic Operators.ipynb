{
 "cells": [
  {
   "cell_type": "markdown",
   "id": "ultimate-external",
   "metadata": {},
   "source": [
    "## Data Types in Core Python"
   ]
  },
  {
   "cell_type": "code",
   "execution_count": null,
   "id": "sharing-alexander",
   "metadata": {},
   "outputs": [],
   "source": [
    "x = 10\n",
    "print(type(x))"
   ]
  },
  {
   "cell_type": "code",
   "execution_count": null,
   "id": "afraid-correlation",
   "metadata": {},
   "outputs": [],
   "source": [
    "f = 10.0\n",
    "print(type(f))"
   ]
  },
  {
   "cell_type": "code",
   "execution_count": null,
   "id": "pacific-aspect",
   "metadata": {},
   "outputs": [],
   "source": [
    "c = 1 - 7j\n",
    "print(type(c))"
   ]
  },
  {
   "cell_type": "code",
   "execution_count": null,
   "id": "geographic-ending",
   "metadata": {},
   "outputs": [],
   "source": [
    "b = True  #False\n",
    "type(b)"
   ]
  },
  {
   "cell_type": "code",
   "execution_count": null,
   "id": "hawaiian-variable",
   "metadata": {},
   "outputs": [],
   "source": [
    "s = \"Hello\"\n",
    "s1 = 'Hello'\n",
    "s2 = \"Let's go for a walk\"\n",
    "s3 = 'He said, \"We will come\".'\n",
    "\n",
    "s4 = \"\"\"Hello\n",
    "World\"\"\"\n",
    "\n",
    "s5 = '''Hello\n",
    "World'''\n",
    "s6 = \"\"\"He said, \"We will come\".\"\"\"\n",
    "print(s5)\n",
    "#string is immutable\n",
    "#string is a collection\n",
    "#string is ordered/indexed"
   ]
  },
  {
   "cell_type": "code",
   "execution_count": null,
   "id": "another-courtesy",
   "metadata": {},
   "outputs": [],
   "source": [
    "s2 = \"Let's go for a walk\"\n",
    "s2"
   ]
  },
  {
   "cell_type": "code",
   "execution_count": null,
   "id": "adopted-elements",
   "metadata": {},
   "outputs": [],
   "source": [
    "s2[3]"
   ]
  },
  {
   "cell_type": "code",
   "execution_count": null,
   "id": "mechanical-marsh",
   "metadata": {},
   "outputs": [],
   "source": [
    "len(s2)"
   ]
  },
  {
   "cell_type": "code",
   "execution_count": null,
   "id": "demographic-friendship",
   "metadata": {},
   "outputs": [],
   "source": [
    "l = [1, \"hello\", 2.5, True, 1+4j, [1,2,'Hi']]\n",
    "print(l)\n",
    "print(type(l))\n",
    "#list is heterogeneous\n",
    "#list is mutable\n",
    "#list is a collection\n",
    "#list is ordered collection/indexing is possible"
   ]
  },
  {
   "cell_type": "code",
   "execution_count": null,
   "id": "aggregate-reach",
   "metadata": {},
   "outputs": [],
   "source": [
    "len(l)"
   ]
  },
  {
   "cell_type": "code",
   "execution_count": null,
   "id": "catholic-wales",
   "metadata": {},
   "outputs": [],
   "source": [
    "l = [1, \"hello\", 2.5, True, 1+4j, [1,2,'Hi']]\n",
    "l[-6]"
   ]
  },
  {
   "cell_type": "code",
   "execution_count": null,
   "id": "serious-console",
   "metadata": {},
   "outputs": [],
   "source": [
    "#Tuple\n",
    "t = (1, \"hello\", 2.5, True, 1+4j, [1,2,'Hi'])\n",
    "#Tuple is heterogeneous\n",
    "#Tuple is immutable\n",
    "#Tuple is a collection\n",
    "#Tuple is ordered collection/indexing is possible"
   ]
  },
  {
   "cell_type": "code",
   "execution_count": null,
   "id": "brutal-highway",
   "metadata": {},
   "outputs": [],
   "source": [
    "t[0]"
   ]
  },
  {
   "cell_type": "code",
   "execution_count": null,
   "id": "charitable-triple",
   "metadata": {},
   "outputs": [],
   "source": [
    "len(t)"
   ]
  },
  {
   "cell_type": "code",
   "execution_count": null,
   "id": "disabled-darwin",
   "metadata": {},
   "outputs": [],
   "source": [
    "type(t)"
   ]
  },
  {
   "cell_type": "code",
   "execution_count": 2,
   "id": "irish-circulation",
   "metadata": {},
   "outputs": [
    {
     "data": {
      "text/plain": [
       "[1, 'hello', 2.5, True, (1+4j), (1, 2, 'Hi')]"
      ]
     },
     "execution_count": 2,
     "metadata": {},
     "output_type": "execute_result"
    }
   ],
   "source": [
    "l = [1, \"hello\", 2.5, True, 1+4j, (1,2,'Hi')]\n",
    "l"
   ]
  },
  {
   "cell_type": "code",
   "execution_count": 3,
   "id": "recorded-serial",
   "metadata": {},
   "outputs": [
    {
     "data": {
      "text/plain": [
       "['Ajay', 'Samvid', 'Kavipriya']"
      ]
     },
     "execution_count": 3,
     "metadata": {},
     "output_type": "execute_result"
    }
   ],
   "source": [
    "l1 = [\"Ajay\", \"Samvid\", \"Kavipriya\"]\n",
    "l1"
   ]
  },
  {
   "cell_type": "code",
   "execution_count": 4,
   "id": "frozen-nowhere",
   "metadata": {},
   "outputs": [],
   "source": [
    "l1.append(\"Karthik\")"
   ]
  },
  {
   "cell_type": "code",
   "execution_count": 5,
   "id": "former-buyer",
   "metadata": {},
   "outputs": [
    {
     "data": {
      "text/plain": [
       "['Ajay', 'Samvid', 'Kavipriya', 'Karthik']"
      ]
     },
     "execution_count": 5,
     "metadata": {},
     "output_type": "execute_result"
    }
   ],
   "source": [
    "l1"
   ]
  },
  {
   "cell_type": "code",
   "execution_count": 6,
   "id": "patient-channels",
   "metadata": {},
   "outputs": [
    {
     "data": {
      "text/plain": [
       "{'Name': 'Ajay', 'Age': 34, 'City': 'Pune'}"
      ]
     },
     "execution_count": 6,
     "metadata": {},
     "output_type": "execute_result"
    }
   ],
   "source": [
    "d = {\"Name\":\"Ajay\", \"Age\":34, \"City\":\"Pune\"}\n",
    "d\n",
    "#Dictionary is mutable/modifiable\n",
    "#Dictionary has items (Key:Value pairs)\n",
    "#Dictionary doesn't allow repetition of keys, values can be repeated\n",
    "#Values of a Dictionary can be heterogenous (any data type)\n",
    "#Keys can be integer or String\n",
    "#Dictionary is a unordered collection\n",
    "#Indexing is NOT possible in Dictionaries"
   ]
  },
  {
   "cell_type": "code",
   "execution_count": 8,
   "id": "pretty-finnish",
   "metadata": {},
   "outputs": [
    {
     "data": {
      "text/plain": [
       "{1: 2,\n",
       " 3: 'Hello',\n",
       " 'Hello': 5,\n",
       " 'name': [5, 3, 'hi'],\n",
       " 'Age': {1: 3, 'hi': 'Bye'}}"
      ]
     },
     "execution_count": 8,
     "metadata": {},
     "output_type": "execute_result"
    }
   ],
   "source": [
    "d1 = {1:2, 3:\"Hello\", \"Hello\": 5, \"name\":[5,3,'hi'],\"Age\":{1:3, \"hi\":\"Bye\"}}\n",
    "d1"
   ]
  },
  {
   "cell_type": "code",
   "execution_count": 10,
   "id": "developmental-failing",
   "metadata": {},
   "outputs": [],
   "source": [
    "s = \"hello\"\n",
    "l = [1,1,3,3,2,1]\n",
    "t = (1,4,1,1,5,6,6)"
   ]
  },
  {
   "cell_type": "code",
   "execution_count": 11,
   "id": "pacific-produce",
   "metadata": {},
   "outputs": [
    {
     "data": {
      "text/plain": [
       "'hello'"
      ]
     },
     "execution_count": 11,
     "metadata": {},
     "output_type": "execute_result"
    }
   ],
   "source": [
    "s"
   ]
  },
  {
   "cell_type": "code",
   "execution_count": 12,
   "id": "sunrise-spouse",
   "metadata": {},
   "outputs": [
    {
     "data": {
      "text/plain": [
       "[1, 1, 3, 3, 2, 1]"
      ]
     },
     "execution_count": 12,
     "metadata": {},
     "output_type": "execute_result"
    }
   ],
   "source": [
    "l"
   ]
  },
  {
   "cell_type": "code",
   "execution_count": 13,
   "id": "neural-harvard",
   "metadata": {},
   "outputs": [
    {
     "data": {
      "text/plain": [
       "(1, 4, 1, 1, 5, 6, 6)"
      ]
     },
     "execution_count": 13,
     "metadata": {},
     "output_type": "execute_result"
    }
   ],
   "source": [
    "t"
   ]
  },
  {
   "cell_type": "code",
   "execution_count": 14,
   "id": "copyrighted-carolina",
   "metadata": {},
   "outputs": [],
   "source": [
    "d = {1:2, 1:3, 7:2, 8:3}"
   ]
  },
  {
   "cell_type": "code",
   "execution_count": 16,
   "id": "reasonable-thursday",
   "metadata": {},
   "outputs": [
    {
     "data": {
      "text/plain": [
       "{1: 3, 7: 2, 8: 3}"
      ]
     },
     "execution_count": 16,
     "metadata": {},
     "output_type": "execute_result"
    }
   ],
   "source": [
    "d"
   ]
  },
  {
   "cell_type": "code",
   "execution_count": 19,
   "id": "angry-michigan",
   "metadata": {},
   "outputs": [
    {
     "data": {
      "text/plain": [
       "2"
      ]
     },
     "execution_count": 19,
     "metadata": {},
     "output_type": "execute_result"
    }
   ],
   "source": [
    "d[7]"
   ]
  },
  {
   "cell_type": "code",
   "execution_count": 20,
   "id": "wanted-internet",
   "metadata": {},
   "outputs": [
    {
     "data": {
      "text/plain": [
       "{1: 2,\n",
       " 3: 'Hello',\n",
       " 'Hello': 5,\n",
       " 'name': [5, 3, 'hi'],\n",
       " 'Age': {1: 3, 'hi': 'Bye'}}"
      ]
     },
     "execution_count": 20,
     "metadata": {},
     "output_type": "execute_result"
    }
   ],
   "source": [
    "d1"
   ]
  },
  {
   "cell_type": "code",
   "execution_count": 21,
   "id": "greek-baseball",
   "metadata": {},
   "outputs": [
    {
     "data": {
      "text/plain": [
       "{1: 3, 'hi': 'Bye'}"
      ]
     },
     "execution_count": 21,
     "metadata": {},
     "output_type": "execute_result"
    }
   ],
   "source": [
    "d1[\"Age\"]"
   ]
  },
  {
   "cell_type": "code",
   "execution_count": 23,
   "id": "antique-weekly",
   "metadata": {},
   "outputs": [
    {
     "data": {
      "text/plain": [
       "[5, 3, 'hi']"
      ]
     },
     "execution_count": 23,
     "metadata": {},
     "output_type": "execute_result"
    }
   ],
   "source": [
    "d1[\"name\"]"
   ]
  },
  {
   "cell_type": "code",
   "execution_count": 24,
   "id": "laughing-lounge",
   "metadata": {},
   "outputs": [
    {
     "ename": "KeyError",
     "evalue": "2",
     "output_type": "error",
     "traceback": [
      "\u001b[1;31m---------------------------------------------------------------------------\u001b[0m",
      "\u001b[1;31mKeyError\u001b[0m                                  Traceback (most recent call last)",
      "\u001b[1;32m<ipython-input-24-a7f798a51da9>\u001b[0m in \u001b[0;36m<module>\u001b[1;34m\u001b[0m\n\u001b[1;32m----> 1\u001b[1;33m \u001b[0md1\u001b[0m\u001b[1;33m[\u001b[0m\u001b[1;36m2\u001b[0m\u001b[1;33m]\u001b[0m\u001b[1;33m\u001b[0m\u001b[1;33m\u001b[0m\u001b[0m\n\u001b[0m",
      "\u001b[1;31mKeyError\u001b[0m: 2"
     ]
    }
   ],
   "source": [
    "d1[2]"
   ]
  },
  {
   "cell_type": "code",
   "execution_count": 25,
   "id": "narrow-stocks",
   "metadata": {},
   "outputs": [],
   "source": [
    "set1 = {1,1,2,3,4,3,1}\n",
    "#Set elements are unique\n",
    "#Set as a whole is mutable but elements of the set are immutable\n",
    "#Set is an unordered collection\n",
    "#i.e. Indexing is not possible in Set."
   ]
  },
  {
   "cell_type": "code",
   "execution_count": 26,
   "id": "unlimited-aging",
   "metadata": {},
   "outputs": [
    {
     "data": {
      "text/plain": [
       "{1, 2, 3, 4}"
      ]
     },
     "execution_count": 26,
     "metadata": {},
     "output_type": "execute_result"
    }
   ],
   "source": [
    "set1"
   ]
  },
  {
   "cell_type": "code",
   "execution_count": 27,
   "id": "formed-clause",
   "metadata": {},
   "outputs": [
    {
     "ename": "TypeError",
     "evalue": "'set' object is not subscriptable",
     "output_type": "error",
     "traceback": [
      "\u001b[1;31m---------------------------------------------------------------------------\u001b[0m",
      "\u001b[1;31mTypeError\u001b[0m                                 Traceback (most recent call last)",
      "\u001b[1;32m<ipython-input-27-c38563f1af7a>\u001b[0m in \u001b[0;36m<module>\u001b[1;34m\u001b[0m\n\u001b[1;32m----> 1\u001b[1;33m \u001b[0mset1\u001b[0m\u001b[1;33m[\u001b[0m\u001b[1;36m0\u001b[0m\u001b[1;33m]\u001b[0m\u001b[1;33m\u001b[0m\u001b[1;33m\u001b[0m\u001b[0m\n\u001b[0m",
      "\u001b[1;31mTypeError\u001b[0m: 'set' object is not subscriptable"
     ]
    }
   ],
   "source": [
    "set1[0]"
   ]
  },
  {
   "cell_type": "code",
   "execution_count": 28,
   "id": "sonic-partner",
   "metadata": {},
   "outputs": [],
   "source": [
    "l = [3,5,9,2,0]"
   ]
  },
  {
   "cell_type": "code",
   "execution_count": 29,
   "id": "municipal-arrangement",
   "metadata": {},
   "outputs": [
    {
     "data": {
      "text/plain": [
       "[3, 5, 'hi', 9, 2, 0]"
      ]
     },
     "execution_count": 29,
     "metadata": {},
     "output_type": "execute_result"
    }
   ],
   "source": [
    "l.insert(2, \"hi\")\n",
    "l"
   ]
  },
  {
   "cell_type": "code",
   "execution_count": 30,
   "id": "intensive-tourism",
   "metadata": {},
   "outputs": [
    {
     "data": {
      "text/plain": [
       "{1, 2, 3, 4}"
      ]
     },
     "execution_count": 30,
     "metadata": {},
     "output_type": "execute_result"
    }
   ],
   "source": [
    "set1"
   ]
  },
  {
   "cell_type": "code",
   "execution_count": 31,
   "id": "chubby-psychology",
   "metadata": {},
   "outputs": [],
   "source": [
    "set1.add(7)"
   ]
  },
  {
   "cell_type": "code",
   "execution_count": 32,
   "id": "aware-wallet",
   "metadata": {},
   "outputs": [
    {
     "data": {
      "text/plain": [
       "{1, 2, 3, 4, 7}"
      ]
     },
     "execution_count": 32,
     "metadata": {},
     "output_type": "execute_result"
    }
   ],
   "source": [
    "set1"
   ]
  },
  {
   "cell_type": "code",
   "execution_count": 33,
   "id": "entertaining-print",
   "metadata": {},
   "outputs": [],
   "source": [
    "set2 = {'a', 2, 9.5}"
   ]
  },
  {
   "cell_type": "code",
   "execution_count": 34,
   "id": "joined-theme",
   "metadata": {},
   "outputs": [
    {
     "data": {
      "text/plain": [
       "{2, 9.5, 'a'}"
      ]
     },
     "execution_count": 34,
     "metadata": {},
     "output_type": "execute_result"
    }
   ],
   "source": [
    "set2"
   ]
  },
  {
   "cell_type": "code",
   "execution_count": 35,
   "id": "seasonal-smith",
   "metadata": {},
   "outputs": [
    {
     "data": {
      "text/plain": [
       "3"
      ]
     },
     "execution_count": 35,
     "metadata": {},
     "output_type": "execute_result"
    }
   ],
   "source": [
    "len(set2)"
   ]
  },
  {
   "cell_type": "code",
   "execution_count": 36,
   "id": "corresponding-tanzania",
   "metadata": {},
   "outputs": [
    {
     "ename": "TypeError",
     "evalue": "object of type 'int' has no len()",
     "output_type": "error",
     "traceback": [
      "\u001b[1;31m---------------------------------------------------------------------------\u001b[0m",
      "\u001b[1;31mTypeError\u001b[0m                                 Traceback (most recent call last)",
      "\u001b[1;32m<ipython-input-36-4bddfc795ea1>\u001b[0m in \u001b[0;36m<module>\u001b[1;34m\u001b[0m\n\u001b[0;32m      1\u001b[0m \u001b[0mi\u001b[0m \u001b[1;33m=\u001b[0m \u001b[1;36m10\u001b[0m\u001b[1;33m\u001b[0m\u001b[1;33m\u001b[0m\u001b[0m\n\u001b[1;32m----> 2\u001b[1;33m \u001b[0mlen\u001b[0m\u001b[1;33m(\u001b[0m\u001b[0mi\u001b[0m\u001b[1;33m)\u001b[0m\u001b[1;33m\u001b[0m\u001b[1;33m\u001b[0m\u001b[0m\n\u001b[0m",
      "\u001b[1;31mTypeError\u001b[0m: object of type 'int' has no len()"
     ]
    }
   ],
   "source": [
    "i = 10\n",
    "len(i)"
   ]
  },
  {
   "cell_type": "markdown",
   "id": "silver-celebrity",
   "metadata": {},
   "source": [
    "## Type Casting"
   ]
  },
  {
   "cell_type": "code",
   "execution_count": 43,
   "id": "democratic-doctrine",
   "metadata": {},
   "outputs": [
    {
     "data": {
      "text/plain": [
       "int"
      ]
     },
     "execution_count": 43,
     "metadata": {},
     "output_type": "execute_result"
    }
   ],
   "source": [
    "i = 10\n",
    "type(i)"
   ]
  },
  {
   "cell_type": "code",
   "execution_count": 44,
   "id": "romantic-story",
   "metadata": {},
   "outputs": [
    {
     "data": {
      "text/plain": [
       "str"
      ]
     },
     "execution_count": 44,
     "metadata": {},
     "output_type": "execute_result"
    }
   ],
   "source": [
    "s = str(i)\n",
    "type(s)"
   ]
  },
  {
   "cell_type": "code",
   "execution_count": 45,
   "id": "pharmaceutical-spider",
   "metadata": {},
   "outputs": [
    {
     "data": {
      "text/plain": [
       "'10'"
      ]
     },
     "execution_count": 45,
     "metadata": {},
     "output_type": "execute_result"
    }
   ],
   "source": [
    "s"
   ]
  },
  {
   "cell_type": "code",
   "execution_count": 46,
   "id": "ahead-friend",
   "metadata": {
    "scrolled": true
   },
   "outputs": [
    {
     "data": {
      "text/plain": [
       "10"
      ]
     },
     "execution_count": 46,
     "metadata": {},
     "output_type": "execute_result"
    }
   ],
   "source": [
    "i"
   ]
  },
  {
   "cell_type": "code",
   "execution_count": 47,
   "id": "abstract-familiar",
   "metadata": {},
   "outputs": [
    {
     "data": {
      "text/plain": [
       "str"
      ]
     },
     "execution_count": 47,
     "metadata": {},
     "output_type": "execute_result"
    }
   ],
   "source": [
    "f = \"Hello\"\n",
    "type(f)"
   ]
  },
  {
   "cell_type": "code",
   "execution_count": 51,
   "id": "surgical-allergy",
   "metadata": {},
   "outputs": [
    {
     "data": {
      "text/plain": [
       "{'H', 'e', 'l', 'o'}"
      ]
     },
     "execution_count": 51,
     "metadata": {},
     "output_type": "execute_result"
    }
   ],
   "source": [
    "lf = set(f)\n",
    "lf"
   ]
  },
  {
   "cell_type": "code",
   "execution_count": 53,
   "id": "european-maximum",
   "metadata": {},
   "outputs": [
    {
     "data": {
      "text/plain": [
       "str"
      ]
     },
     "execution_count": 53,
     "metadata": {},
     "output_type": "execute_result"
    }
   ],
   "source": [
    "s = '10'\n",
    "type(s)"
   ]
  },
  {
   "cell_type": "code",
   "execution_count": 54,
   "id": "secondary-outreach",
   "metadata": {},
   "outputs": [
    {
     "data": {
      "text/plain": [
       "10"
      ]
     },
     "execution_count": 54,
     "metadata": {},
     "output_type": "execute_result"
    }
   ],
   "source": [
    "o = int(s)\n",
    "o"
   ]
  },
  {
   "cell_type": "code",
   "execution_count": 55,
   "id": "resistant-omega",
   "metadata": {},
   "outputs": [
    {
     "data": {
      "text/plain": [
       "'qwerty'"
      ]
     },
     "execution_count": 55,
     "metadata": {},
     "output_type": "execute_result"
    }
   ],
   "source": [
    "x = \"qwerty\"\n",
    "x"
   ]
  },
  {
   "cell_type": "code",
   "execution_count": 56,
   "id": "wanted-optics",
   "metadata": {},
   "outputs": [
    {
     "ename": "ValueError",
     "evalue": "invalid literal for int() with base 10: 'qwerty'",
     "output_type": "error",
     "traceback": [
      "\u001b[1;31m---------------------------------------------------------------------------\u001b[0m",
      "\u001b[1;31mValueError\u001b[0m                                Traceback (most recent call last)",
      "\u001b[1;32m<ipython-input-56-ea3591560ff8>\u001b[0m in \u001b[0;36m<module>\u001b[1;34m\u001b[0m\n\u001b[1;32m----> 1\u001b[1;33m \u001b[0mv\u001b[0m \u001b[1;33m=\u001b[0m \u001b[0mint\u001b[0m\u001b[1;33m(\u001b[0m\u001b[0mx\u001b[0m\u001b[1;33m)\u001b[0m\u001b[1;33m\u001b[0m\u001b[1;33m\u001b[0m\u001b[0m\n\u001b[0m\u001b[0;32m      2\u001b[0m \u001b[0mv\u001b[0m\u001b[1;33m\u001b[0m\u001b[1;33m\u001b[0m\u001b[0m\n",
      "\u001b[1;31mValueError\u001b[0m: invalid literal for int() with base 10: 'qwerty'"
     ]
    }
   ],
   "source": [
    "v = int(x)\n",
    "v"
   ]
  },
  {
   "cell_type": "code",
   "execution_count": 57,
   "id": "metallic-houston",
   "metadata": {},
   "outputs": [
    {
     "data": {
      "text/plain": [
       "('q', 'w', 'e', 'r', 't', 'y')"
      ]
     },
     "execution_count": 57,
     "metadata": {},
     "output_type": "execute_result"
    }
   ],
   "source": [
    "a = tuple(x)\n",
    "a"
   ]
  },
  {
   "cell_type": "code",
   "execution_count": 69,
   "id": "tired-dollar",
   "metadata": {},
   "outputs": [
    {
     "data": {
      "text/plain": [
       "True"
      ]
     },
     "execution_count": 69,
     "metadata": {},
     "output_type": "execute_result"
    }
   ],
   "source": [
    "b = 1\n",
    "n = bool(b)\n",
    "n"
   ]
  },
  {
   "cell_type": "code",
   "execution_count": 70,
   "id": "offshore-occasion",
   "metadata": {},
   "outputs": [
    {
     "data": {
      "text/plain": [
       "10"
      ]
     },
     "execution_count": 70,
     "metadata": {},
     "output_type": "execute_result"
    }
   ],
   "source": [
    "c = 10.9\n",
    "int(c)"
   ]
  },
  {
   "cell_type": "code",
   "execution_count": 71,
   "id": "flying-trick",
   "metadata": {},
   "outputs": [],
   "source": [
    "q = [\"karan\"]"
   ]
  },
  {
   "cell_type": "code",
   "execution_count": 72,
   "id": "underlying-election",
   "metadata": {},
   "outputs": [
    {
     "data": {
      "text/plain": [
       "['karan']"
      ]
     },
     "execution_count": 72,
     "metadata": {},
     "output_type": "execute_result"
    }
   ],
   "source": [
    "q"
   ]
  },
  {
   "cell_type": "code",
   "execution_count": 84,
   "id": "departmental-charlotte",
   "metadata": {},
   "outputs": [
    {
     "name": "stdout",
     "output_type": "stream",
     "text": [
      "Enter a number: 10.5\n"
     ]
    }
   ],
   "source": [
    "h = int(float(input(\"Enter a number: \")))"
   ]
  },
  {
   "cell_type": "code",
   "execution_count": 85,
   "id": "gorgeous-housing",
   "metadata": {},
   "outputs": [
    {
     "data": {
      "text/plain": [
       "10"
      ]
     },
     "execution_count": 85,
     "metadata": {},
     "output_type": "execute_result"
    }
   ],
   "source": [
    "h"
   ]
  },
  {
   "cell_type": "markdown",
   "id": "dental-network",
   "metadata": {},
   "source": [
    "## Types of operators"
   ]
  },
  {
   "cell_type": "markdown",
   "id": "printable-december",
   "metadata": {},
   "source": [
    "### Arithmetic Operators"
   ]
  },
  {
   "cell_type": "code",
   "execution_count": 97,
   "id": "valued-palestinian",
   "metadata": {},
   "outputs": [
    {
     "name": "stdout",
     "output_type": "stream",
     "text": [
      "11\n"
     ]
    }
   ],
   "source": [
    "x = 4\n",
    "y = 7\n",
    "z = x + y\n",
    "print(z)"
   ]
  },
  {
   "cell_type": "code",
   "execution_count": 98,
   "id": "fundamental-sugar",
   "metadata": {},
   "outputs": [
    {
     "name": "stdout",
     "output_type": "stream",
     "text": [
      "-3\n"
     ]
    },
    {
     "data": {
      "text/plain": [
       "3"
      ]
     },
     "execution_count": 98,
     "metadata": {},
     "output_type": "execute_result"
    }
   ],
   "source": [
    "x = 4\n",
    "y = 7\n",
    "z = x - y\n",
    "print(z)\n",
    "r = y - x\n",
    "r"
   ]
  },
  {
   "cell_type": "code",
   "execution_count": 99,
   "id": "skilled-chicken",
   "metadata": {},
   "outputs": [
    {
     "name": "stdout",
     "output_type": "stream",
     "text": [
      "28\n"
     ]
    }
   ],
   "source": [
    "x = 4\n",
    "y = 7\n",
    "z = x * y\n",
    "print(z)"
   ]
  },
  {
   "cell_type": "code",
   "execution_count": 100,
   "id": "growing-architect",
   "metadata": {},
   "outputs": [
    {
     "name": "stdout",
     "output_type": "stream",
     "text": [
      "4.0\n"
     ]
    }
   ],
   "source": [
    "x = 8\n",
    "y = 2\n",
    "z = x / y\n",
    "print(z)"
   ]
  },
  {
   "cell_type": "code",
   "execution_count": 101,
   "id": "square-benefit",
   "metadata": {},
   "outputs": [
    {
     "name": "stdout",
     "output_type": "stream",
     "text": [
      "49\n"
     ]
    }
   ],
   "source": [
    "x = 7\n",
    "y = 2\n",
    "z = x ** y\n",
    "print(z)"
   ]
  },
  {
   "cell_type": "code",
   "execution_count": 102,
   "id": "tested-myrtle",
   "metadata": {},
   "outputs": [
    {
     "name": "stdout",
     "output_type": "stream",
     "text": [
      "2\n"
     ]
    }
   ],
   "source": [
    "x = 11\n",
    "y = 3\n",
    "z = x % y\n",
    "print(z)"
   ]
  },
  {
   "cell_type": "code",
   "execution_count": 103,
   "id": "entertaining-fortune",
   "metadata": {},
   "outputs": [
    {
     "name": "stdout",
     "output_type": "stream",
     "text": [
      "3\n"
     ]
    }
   ],
   "source": [
    "x = 11\n",
    "y = 3\n",
    "z = x // y\n",
    "print(z)"
   ]
  },
  {
   "cell_type": "code",
   "execution_count": null,
   "id": "widespread-hormone",
   "metadata": {},
   "outputs": [],
   "source": []
  }
 ],
 "metadata": {
  "kernelspec": {
   "display_name": "Python 3",
   "language": "python",
   "name": "python3"
  },
  "language_info": {
   "codemirror_mode": {
    "name": "ipython",
    "version": 3
   },
   "file_extension": ".py",
   "mimetype": "text/x-python",
   "name": "python",
   "nbconvert_exporter": "python",
   "pygments_lexer": "ipython3",
   "version": "3.9.1"
  }
 },
 "nbformat": 4,
 "nbformat_minor": 5
}
