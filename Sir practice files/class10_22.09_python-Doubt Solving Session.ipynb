{
 "cells": [
  {
   "cell_type": "code",
   "execution_count": 2,
   "id": "organic-delaware",
   "metadata": {},
   "outputs": [
    {
     "data": {
      "text/plain": [
       "'your registered mail id is aafgrfvc@gmail.com and your registered mobile number is 9867635445'"
      ]
     },
     "execution_count": 2,
     "metadata": {},
     "output_type": "execute_result"
    }
   ],
   "source": [
    "x = \"your registered mail id is aafgrfvc@gmail.com and your registered mobile number is 9867635445\"\n",
    "x"
   ]
  },
  {
   "cell_type": "code",
   "execution_count": 25,
   "id": "sixth-circulation",
   "metadata": {
    "scrolled": false
   },
   "outputs": [
    {
     "name": "stdout",
     "output_type": "stream",
     "text": [
      "y ['your', 'registered', 'mail', 'id', 'is', 'aafgrfv45c@gmail.com', 'and', 'your', 'registered', 'mobile', 'number', 'is', '']\n",
      "Email: aafgrfv45c@gmail.com\n",
      "Phone: Notfound\n"
     ]
    }
   ],
   "source": [
    "x = \"your registered mail id is aafgrfv45c@gmail.com and your registered mobile number is 9867635445\"\n",
    "\n",
    "#domain = input(\"Please enter your domain\")\n",
    "y = x.(\" \")\n",
    "print(\"y\", y)\n",
    "email = \"Not found\"\n",
    "phone = \"Not found\"\n",
    "\n",
    "for el in range(len(y)):\n",
    "    if y[el].find(\"@\") != -1:         # and y[el].find(domain) != -1\n",
    "        email = y[el]\n",
    "    if len(y[el]) == 10 and y[el].isdigit():\n",
    "        phone = y[el]\n",
    "\n",
    "print(\"Email:\", email)\n",
    "print(\"Phone:\", phone)"
   ]
  },
  {
   "cell_type": "code",
   "execution_count": 8,
   "id": "concrete-kuwait",
   "metadata": {},
   "outputs": [
    {
     "data": {
      "text/plain": [
       "-1"
      ]
     },
     "execution_count": 8,
     "metadata": {},
     "output_type": "execute_result"
    }
   ],
   "source": [
    "a = \"Hello\"\n",
    "a.find('r')"
   ]
  },
  {
   "cell_type": "code",
   "execution_count": 4,
   "id": "still-reproduction",
   "metadata": {},
   "outputs": [
    {
     "data": {
      "text/plain": [
       "57"
      ]
     },
     "execution_count": 4,
     "metadata": {},
     "output_type": "execute_result"
    }
   ],
   "source": [
    "w = \"9\"\n",
    "ord(w)"
   ]
  },
  {
   "cell_type": "code",
   "execution_count": 29,
   "id": "increased-uncertainty",
   "metadata": {},
   "outputs": [
    {
     "name": "stdout",
     "output_type": "stream",
     "text": [
      "[1, 2, 3, 4]\n",
      "['1', '2', '3', '4']\n"
     ]
    },
    {
     "data": {
      "text/plain": [
       "'1234'"
      ]
     },
     "execution_count": 29,
     "metadata": {},
     "output_type": "execute_result"
    }
   ],
   "source": [
    "e = [1,2,3,4]\n",
    "\n",
    "for i in range(len(e)):\n",
    "    e[i] = str(e[i])\n",
    "\n",
    "r = \"\".join(e)\n",
    "r"
   ]
  },
  {
   "cell_type": "code",
   "execution_count": null,
   "id": "provincial-montgomery",
   "metadata": {},
   "outputs": [],
   "source": []
  }
 ],
 "metadata": {
  "kernelspec": {
   "display_name": "Python 3",
   "language": "python",
   "name": "python3"
  },
  "language_info": {
   "codemirror_mode": {
    "name": "ipython",
    "version": 3
   },
   "file_extension": ".py",
   "mimetype": "text/x-python",
   "name": "python",
   "nbconvert_exporter": "python",
   "pygments_lexer": "ipython3",
   "version": "3.9.1"
  }
 },
 "nbformat": 4,
 "nbformat_minor": 5
}
