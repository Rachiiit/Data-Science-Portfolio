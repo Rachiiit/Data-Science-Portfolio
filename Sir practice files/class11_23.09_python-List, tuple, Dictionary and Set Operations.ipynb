{
 "cells": [
  {
   "cell_type": "code",
   "execution_count": null,
   "id": "little-advertising",
   "metadata": {},
   "outputs": [],
   "source": [
    "#Write a Python program to find the smallest number from a list using loop.\n",
    "#Input:- [10,100,2321, 1,200,2]\n",
    "#Output:- 1\n",
    "\n",
    "smallest = []\n",
    "a =  [10,100,2321, 1,200,2]\n",
    "for x in range(0,len(a)):\n",
    "    x = a.sort()\n",
    "smallest = a[0]\n",
    "print(smallest)"
   ]
  },
  {
   "cell_type": "code",
   "execution_count": null,
   "id": "honest-surface",
   "metadata": {},
   "outputs": [],
   "source": [
    "list1 =  [10,100,2321, 1,200,2]\n",
    "\n",
    "s = a[0]\n",
    "for x in list1:\n",
    "    if x < s:\n",
    "        s = x\n",
    "        \n",
    "print(s)"
   ]
  },
  {
   "cell_type": "code",
   "execution_count": null,
   "id": "lonely-manchester",
   "metadata": {},
   "outputs": [],
   "source": [
    "t1 = (1,2,3)\n",
    "t2 = (4,2,5)\n",
    "t3 = t1 + t2\n",
    "t3"
   ]
  },
  {
   "cell_type": "code",
   "execution_count": null,
   "id": "necessary-sister",
   "metadata": {},
   "outputs": [],
   "source": [
    "t1"
   ]
  },
  {
   "cell_type": "code",
   "execution_count": null,
   "id": "public-harbor",
   "metadata": {},
   "outputs": [],
   "source": [
    "t1*3"
   ]
  },
  {
   "cell_type": "code",
   "execution_count": null,
   "id": "deluxe-southeast",
   "metadata": {},
   "outputs": [],
   "source": [
    "t3"
   ]
  },
  {
   "cell_type": "code",
   "execution_count": null,
   "id": "proof-wales",
   "metadata": {},
   "outputs": [],
   "source": [
    "t3[0]"
   ]
  },
  {
   "cell_type": "code",
   "execution_count": null,
   "id": "coupled-stockholm",
   "metadata": {},
   "outputs": [],
   "source": [
    "t3[1:5]"
   ]
  },
  {
   "cell_type": "code",
   "execution_count": null,
   "id": "endless-minute",
   "metadata": {},
   "outputs": [],
   "source": [
    "t3"
   ]
  },
  {
   "cell_type": "code",
   "execution_count": null,
   "id": "amended-poultry",
   "metadata": {},
   "outputs": [],
   "source": [
    "len(t3)"
   ]
  },
  {
   "cell_type": "code",
   "execution_count": null,
   "id": "common-pharmacology",
   "metadata": {},
   "outputs": [],
   "source": [
    "max(t3)"
   ]
  },
  {
   "cell_type": "code",
   "execution_count": null,
   "id": "invalid-compression",
   "metadata": {},
   "outputs": [],
   "source": [
    "min(t3)"
   ]
  },
  {
   "cell_type": "code",
   "execution_count": null,
   "id": "restricted-davis",
   "metadata": {},
   "outputs": [],
   "source": [
    "l = [\"a\", 3.2, 1, 3]\n",
    "t = tuple(l)\n",
    "t\n",
    "#Type Casting/Type Conversion"
   ]
  },
  {
   "cell_type": "code",
   "execution_count": null,
   "id": "needed-wesley",
   "metadata": {},
   "outputs": [],
   "source": [
    "# Q. Why is tuple more secured that list?"
   ]
  },
  {
   "cell_type": "code",
   "execution_count": null,
   "id": "cardiovascular-sterling",
   "metadata": {},
   "outputs": [],
   "source": [
    "d = {1:2, 3:4}\n",
    "d"
   ]
  },
  {
   "cell_type": "code",
   "execution_count": null,
   "id": "floppy-drilling",
   "metadata": {},
   "outputs": [],
   "source": [
    "len(d)"
   ]
  },
  {
   "cell_type": "code",
   "execution_count": null,
   "id": "robust-bones",
   "metadata": {},
   "outputs": [],
   "source": [
    "type(d)"
   ]
  },
  {
   "cell_type": "code",
   "execution_count": null,
   "id": "lovely-panama",
   "metadata": {},
   "outputs": [],
   "source": [
    "# d = {1:2, 3:4}\n",
    "d1 = dict([(1,2),(3,4),(5,6)])\n",
    "d1\n",
    "\n"
   ]
  },
  {
   "cell_type": "code",
   "execution_count": null,
   "id": "conservative-swiss",
   "metadata": {},
   "outputs": [],
   "source": [
    "d1"
   ]
  },
  {
   "cell_type": "code",
   "execution_count": null,
   "id": "foster-morgan",
   "metadata": {},
   "outputs": [],
   "source": [
    "d1[1]"
   ]
  },
  {
   "cell_type": "code",
   "execution_count": null,
   "id": "dried-validation",
   "metadata": {},
   "outputs": [],
   "source": [
    "d1.get(1)"
   ]
  },
  {
   "cell_type": "code",
   "execution_count": null,
   "id": "banned-hypothesis",
   "metadata": {},
   "outputs": [],
   "source": [
    "d1[0]   #Keying/Indexing"
   ]
  },
  {
   "cell_type": "code",
   "execution_count": null,
   "id": "lined-wallpaper",
   "metadata": {},
   "outputs": [],
   "source": [
    "print(d1.get(0))"
   ]
  },
  {
   "cell_type": "code",
   "execution_count": null,
   "id": "serial-binary",
   "metadata": {
    "scrolled": true
   },
   "outputs": [],
   "source": [
    "d = {1:2, 3:4, 1:4, 5:4}\n",
    "d"
   ]
  },
  {
   "cell_type": "code",
   "execution_count": null,
   "id": "gothic-scene",
   "metadata": {
    "scrolled": false
   },
   "outputs": [],
   "source": [
    "l = tuple(d.keys())\n",
    "l"
   ]
  },
  {
   "cell_type": "code",
   "execution_count": null,
   "id": "smoking-closing",
   "metadata": {},
   "outputs": [],
   "source": [
    "d.values()"
   ]
  },
  {
   "cell_type": "code",
   "execution_count": null,
   "id": "basic-transition",
   "metadata": {
    "scrolled": true
   },
   "outputs": [],
   "source": [
    "l = list(d.items())\n",
    "l"
   ]
  },
  {
   "cell_type": "code",
   "execution_count": null,
   "id": "third-mystery",
   "metadata": {},
   "outputs": [],
   "source": [
    "d"
   ]
  },
  {
   "cell_type": "code",
   "execution_count": null,
   "id": "catholic-coupon",
   "metadata": {},
   "outputs": [],
   "source": [
    "# dict_items([(1, 4), (3, 4), (5, 4)])"
   ]
  },
  {
   "cell_type": "code",
   "execution_count": null,
   "id": "heavy-software",
   "metadata": {
    "scrolled": true
   },
   "outputs": [],
   "source": [
    "d = {1:2, 3:4, 5:6, 7:2}\n",
    "d"
   ]
  },
  {
   "cell_type": "code",
   "execution_count": null,
   "id": "successful-style",
   "metadata": {},
   "outputs": [],
   "source": [
    "d.update({2:\"anything\", 7:5})\n",
    "d"
   ]
  },
  {
   "cell_type": "code",
   "execution_count": null,
   "id": "assumed-scholar",
   "metadata": {},
   "outputs": [],
   "source": [
    "d"
   ]
  },
  {
   "cell_type": "code",
   "execution_count": null,
   "id": "adjacent-toronto",
   "metadata": {},
   "outputs": [],
   "source": [
    "d.pop(1)"
   ]
  },
  {
   "cell_type": "code",
   "execution_count": null,
   "id": "municipal-atlantic",
   "metadata": {},
   "outputs": [],
   "source": [
    "d"
   ]
  },
  {
   "cell_type": "code",
   "execution_count": null,
   "id": "unknown-graduation",
   "metadata": {},
   "outputs": [],
   "source": [
    "d = {1: 2, \"Name\":\"Harshil\", \"Some\":[4,\"h\",5.4], \"thing\":(1,2), 5:{8:6, \"Hello\":\"World\"}}\n",
    "d"
   ]
  },
  {
   "cell_type": "code",
   "execution_count": null,
   "id": "radio-flooring",
   "metadata": {},
   "outputs": [],
   "source": [
    "d1 = {1: 2, \"Name\":\"Harshil\", 5:{8:6, \"Hello\":{1:2,3:4}}}\n",
    "d1"
   ]
  },
  {
   "cell_type": "code",
   "execution_count": null,
   "id": "oriented-collapse",
   "metadata": {},
   "outputs": [],
   "source": [
    "d1[5].pop(\"Hello\")\n",
    "d1"
   ]
  },
  {
   "cell_type": "code",
   "execution_count": null,
   "id": "certain-karen",
   "metadata": {},
   "outputs": [],
   "source": [
    "d1[5].items()"
   ]
  },
  {
   "cell_type": "code",
   "execution_count": null,
   "id": "recorded-faith",
   "metadata": {},
   "outputs": [],
   "source": [
    "d = {1:2, \"Name\":\"Harshil\", \"Some\":[4,\"h\",5.4], \"things\":(1,2), 5:{8:6, \"hello\":\"world\"}}\n",
    "print(d)\n",
    "print(d[5])\n",
    "print(d.pop(\"Some\"))"
   ]
  },
  {
   "cell_type": "code",
   "execution_count": null,
   "id": "gross-catalog",
   "metadata": {},
   "outputs": [],
   "source": [
    "s = {1,1,1,2,3,1,4,5,0}\n",
    "s"
   ]
  },
  {
   "cell_type": "code",
   "execution_count": null,
   "id": "reflected-curve",
   "metadata": {},
   "outputs": [],
   "source": [
    "len(s)"
   ]
  },
  {
   "cell_type": "code",
   "execution_count": null,
   "id": "incorporated-malta",
   "metadata": {},
   "outputs": [],
   "source": [
    "type(s)"
   ]
  },
  {
   "cell_type": "code",
   "execution_count": null,
   "id": "supreme-brazilian",
   "metadata": {},
   "outputs": [],
   "source": [
    "l = [1,1,1,2,3,1,4,5,0]\n",
    "s1 = set(l)\n",
    "s1"
   ]
  },
  {
   "cell_type": "code",
   "execution_count": null,
   "id": "danish-large",
   "metadata": {},
   "outputs": [],
   "source": [
    "max(s1)"
   ]
  },
  {
   "cell_type": "code",
   "execution_count": null,
   "id": "upset-plate",
   "metadata": {},
   "outputs": [],
   "source": [
    "min(s1)"
   ]
  },
  {
   "cell_type": "code",
   "execution_count": null,
   "id": "egyptian-blanket",
   "metadata": {},
   "outputs": [],
   "source": [
    "s1 = {1,2,3,4}\n",
    "s1"
   ]
  },
  {
   "cell_type": "code",
   "execution_count": null,
   "id": "hawaiian-dallas",
   "metadata": {},
   "outputs": [],
   "source": [
    "s1.add(\"0\")\n",
    "s1"
   ]
  },
  {
   "cell_type": "code",
   "execution_count": null,
   "id": "common-birth",
   "metadata": {},
   "outputs": [],
   "source": [
    "s1[1]"
   ]
  },
  {
   "cell_type": "code",
   "execution_count": null,
   "id": "comfortable-sunday",
   "metadata": {},
   "outputs": [],
   "source": [
    "s1"
   ]
  },
  {
   "cell_type": "code",
   "execution_count": null,
   "id": "owned-emerald",
   "metadata": {},
   "outputs": [],
   "source": [
    "s1.remove(3)"
   ]
  },
  {
   "cell_type": "code",
   "execution_count": null,
   "id": "capable-damages",
   "metadata": {},
   "outputs": [],
   "source": [
    "s1"
   ]
  },
  {
   "cell_type": "code",
   "execution_count": null,
   "id": "emotional-guatemala",
   "metadata": {},
   "outputs": [],
   "source": [
    "s1.remove(3)"
   ]
  },
  {
   "cell_type": "code",
   "execution_count": null,
   "id": "concerned-worship",
   "metadata": {},
   "outputs": [],
   "source": [
    "s1.discard(3)"
   ]
  },
  {
   "cell_type": "code",
   "execution_count": null,
   "id": "exposed-recipient",
   "metadata": {},
   "outputs": [],
   "source": [
    "s1"
   ]
  },
  {
   "cell_type": "code",
   "execution_count": null,
   "id": "academic-juvenile",
   "metadata": {},
   "outputs": [],
   "source": [
    "s1.add(\"a\")\n",
    "s1"
   ]
  },
  {
   "cell_type": "code",
   "execution_count": null,
   "id": "signal-source",
   "metadata": {},
   "outputs": [],
   "source": [
    "s1 = {1,2,3,4}\n",
    "s2 = {3,1,5,9}"
   ]
  },
  {
   "cell_type": "code",
   "execution_count": null,
   "id": "concrete-convertible",
   "metadata": {},
   "outputs": [],
   "source": [
    "s1 | s2   #Union Operation\n",
    "s1.union(s2)"
   ]
  },
  {
   "cell_type": "code",
   "execution_count": null,
   "id": "interim-foster",
   "metadata": {},
   "outputs": [],
   "source": [
    "s1 & s2 #Intersection Operation\n",
    "s1.intersection(s2)"
   ]
  },
  {
   "cell_type": "code",
   "execution_count": null,
   "id": "democratic-colony",
   "metadata": {},
   "outputs": [],
   "source": [
    "s1 - s2   #s1 - (s1 & s2) Difference operation\n",
    "s1.difference(s2)"
   ]
  },
  {
   "cell_type": "code",
   "execution_count": null,
   "id": "hollywood-sheffield",
   "metadata": {},
   "outputs": [],
   "source": [
    "s2 - s1   #s2 - (s1 & s2) Difference operation\n",
    "s2.difference(s1)"
   ]
  },
  {
   "cell_type": "code",
   "execution_count": 6,
   "id": "bright-ferry",
   "metadata": {},
   "outputs": [
    {
     "data": {
      "text/plain": [
       "['Sanjana',\n",
       " 'Someone',\n",
       " 'Hello',\n",
       " 'World',\n",
       " 'Code',\n",
       " 'Myself',\n",
       " 'Wanted',\n",
       " 'Code',\n",
       " 'File',\n",
       " 'To',\n",
       " 'Python']"
      ]
     },
     "execution_count": 6,
     "metadata": {},
     "output_type": "execute_result"
    }
   ],
   "source": [
    "#something.txt Desktop  #Sanjana's Doubt of File Handling\n",
    "d = open(\"C:/Users/harsh/Desktop/something.txt\", 'r')\n",
    "l = d.read()\n",
    "# print(l)\n",
    "o = l.split(\"\\n\")\n",
    "o"
   ]
  },
  {
   "cell_type": "code",
   "execution_count": null,
   "id": "chronic-helen",
   "metadata": {},
   "outputs": [],
   "source": []
  }
 ],
 "metadata": {
  "kernelspec": {
   "display_name": "Python 3 (ipykernel)",
   "language": "python",
   "name": "python3"
  },
  "language_info": {
   "codemirror_mode": {
    "name": "ipython",
    "version": 3
   },
   "file_extension": ".py",
   "mimetype": "text/x-python",
   "name": "python",
   "nbconvert_exporter": "python",
   "pygments_lexer": "ipython3",
   "version": "3.9.6"
  }
 },
 "nbformat": 4,
 "nbformat_minor": 5
}
