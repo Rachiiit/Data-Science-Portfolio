{
 "cells": [
  {
   "cell_type": "code",
   "execution_count": 2,
   "id": "internal-worse",
   "metadata": {},
   "outputs": [
    {
     "name": "stdout",
     "output_type": "stream",
     "text": [
      "SomethingAny"
     ]
    }
   ],
   "source": [
    "print(\"Something\", end = \"Any\")"
   ]
  },
  {
   "cell_type": "code",
   "execution_count": 18,
   "id": "unlike-license",
   "metadata": {},
   "outputs": [],
   "source": [
    "# Function Definition\n",
    "def add():\n",
    "    print(\"This is add function.\")\n",
    "    x = 1\n",
    "    y = 9\n",
    "    a = x + y\n",
    "    print(a)\n",
    "    print(\"s\", s)"
   ]
  },
  {
   "cell_type": "code",
   "execution_count": 21,
   "id": "coordinated-appeal",
   "metadata": {},
   "outputs": [],
   "source": [
    "def aver():\n",
    "    x = 2\n",
    "    x = 4\n",
    "    w = (p+q)/2\n",
    "    print(\"w\", w)\n",
    "    print(\"a\", a)\n",
    "    #Function block"
   ]
  },
  {
   "cell_type": "code",
   "execution_count": 19,
   "id": "collect-summit",
   "metadata": {},
   "outputs": [
    {
     "name": "stdout",
     "output_type": "stream",
     "text": [
      "Hello\n",
      "This is add function.\n",
      "10\n",
      "s 10\n",
      "World\n"
     ]
    }
   ],
   "source": [
    "s = 10\n",
    "add()      # xFunction Call\n",
    "aver()"
   ]
  },
  {
   "cell_type": "code",
   "execution_count": null,
   "id": "graphic-lesson",
   "metadata": {},
   "outputs": [],
   "source": []
  },
  {
   "cell_type": "code",
   "execution_count": 25,
   "id": "incorrect-suggestion",
   "metadata": {},
   "outputs": [],
   "source": [
    "# variable is placeholder/container that can hold something."
   ]
  },
  {
   "cell_type": "code",
   "execution_count": 36,
   "id": "rough-initial",
   "metadata": {},
   "outputs": [],
   "source": [
    "# Function Definition\n",
    "def some(x, y):   \n",
    "    z = x + y\n",
    "    print(\"z\",z)\n",
    "    return z, x, y   #Return Value"
   ]
  },
  {
   "cell_type": "code",
   "execution_count": 37,
   "id": "cutting-intake",
   "metadata": {},
   "outputs": [
    {
     "name": "stdout",
     "output_type": "stream",
     "text": [
      "z 6\n",
      "c 6\n",
      "Hello\n",
      "None\n"
     ]
    }
   ],
   "source": [
    "def main():      #Calling Function\n",
    "    a = 4\n",
    "    b = 2\n",
    "    c,d,e = some(a, b)   #Function Call\n",
    "    print(\"c\",c)\n",
    "    print(\"Hello\")\n",
    "    if sub_str is not there:\n",
    "        return -1\n",
    "    else:\n",
    "        return index of sub_str\n",
    "\n",
    "t = main()\n",
    "print(t)"
   ]
  },
  {
   "cell_type": "code",
   "execution_count": 38,
   "id": "upper-anthropology",
   "metadata": {},
   "outputs": [
    {
     "name": "stdout",
     "output_type": "stream",
     "text": [
      "-1\n"
     ]
    }
   ],
   "source": [
    "s = \"Hello\"\n",
    "print(s.find('z'))"
   ]
  },
  {
   "cell_type": "code",
   "execution_count": 39,
   "id": "considerable-pricing",
   "metadata": {},
   "outputs": [
    {
     "name": "stdout",
     "output_type": "stream",
     "text": [
      "Hello\n",
      "None\n"
     ]
    }
   ],
   "source": [
    "print(print(\"Hello\"))"
   ]
  },
  {
   "cell_type": "code",
   "execution_count": 1,
   "id": "little-vegetation",
   "metadata": {},
   "outputs": [
    {
     "data": {
      "text/plain": [
       "{'Harshil123': 'qwerty123', 'Abhishek': 'hispass'}"
      ]
     },
     "execution_count": 1,
     "metadata": {},
     "output_type": "execute_result"
    }
   ],
   "source": [
    "d = {\"Harshil123\":\"qwerty123\", \"Abhishek\":\"hispass\"}\n",
    "d"
   ]
  },
  {
   "cell_type": "code",
   "execution_count": 48,
   "id": "leading-foster",
   "metadata": {},
   "outputs": [
    {
     "ename": "KeyboardInterrupt",
     "evalue": "Interrupted by user",
     "output_type": "error",
     "traceback": [
      "\u001b[1;31m---------------------------------------------------------------------------\u001b[0m",
      "\u001b[1;31mKeyboardInterrupt\u001b[0m                         Traceback (most recent call last)",
      "\u001b[1;32m<ipython-input-48-b1bf8086a86d>\u001b[0m in \u001b[0;36m<module>\u001b[1;34m\u001b[0m\n\u001b[0;32m      1\u001b[0m \u001b[1;32mwhile\u001b[0m\u001b[1;33m(\u001b[0m\u001b[1;36m1\u001b[0m\u001b[1;33m)\u001b[0m\u001b[1;33m:\u001b[0m\u001b[1;33m\u001b[0m\u001b[1;33m\u001b[0m\u001b[0m\n\u001b[1;32m----> 2\u001b[1;33m     \u001b[0mf\u001b[0m \u001b[1;33m=\u001b[0m \u001b[0minput\u001b[0m\u001b[1;33m(\u001b[0m\u001b[1;34m\"Please enter your username: \"\u001b[0m\u001b[1;33m)\u001b[0m\u001b[1;33m\u001b[0m\u001b[1;33m\u001b[0m\u001b[0m\n\u001b[0m\u001b[0;32m      3\u001b[0m     \u001b[1;32mif\u001b[0m \u001b[0md\u001b[0m\u001b[1;33m.\u001b[0m\u001b[0mget\u001b[0m\u001b[1;33m(\u001b[0m\u001b[0mf\u001b[0m\u001b[1;33m)\u001b[0m \u001b[1;33m==\u001b[0m \u001b[1;32mNone\u001b[0m\u001b[1;33m:\u001b[0m\u001b[1;33m\u001b[0m\u001b[1;33m\u001b[0m\u001b[0m\n\u001b[0;32m      4\u001b[0m         \u001b[0mprint\u001b[0m\u001b[1;33m(\u001b[0m\u001b[1;34m\"Username not registered... Try again\"\u001b[0m\u001b[1;33m)\u001b[0m\u001b[1;33m\u001b[0m\u001b[1;33m\u001b[0m\u001b[0m\n\u001b[0;32m      5\u001b[0m     \u001b[1;32melse\u001b[0m\u001b[1;33m:\u001b[0m\u001b[1;33m\u001b[0m\u001b[1;33m\u001b[0m\u001b[0m\n",
      "\u001b[1;32md:\\installed softwares\\python\\lib\\site-packages\\ipykernel\\kernelbase.py\u001b[0m in \u001b[0;36mraw_input\u001b[1;34m(self, prompt)\u001b[0m\n\u001b[0;32m    855\u001b[0m                 \u001b[1;34m\"raw_input was called, but this frontend does not support input requests.\"\u001b[0m\u001b[1;33m\u001b[0m\u001b[1;33m\u001b[0m\u001b[0m\n\u001b[0;32m    856\u001b[0m             )\n\u001b[1;32m--> 857\u001b[1;33m         return self._input_request(str(prompt),\n\u001b[0m\u001b[0;32m    858\u001b[0m             \u001b[0mself\u001b[0m\u001b[1;33m.\u001b[0m\u001b[0m_parent_ident\u001b[0m\u001b[1;33m,\u001b[0m\u001b[1;33m\u001b[0m\u001b[1;33m\u001b[0m\u001b[0m\n\u001b[0;32m    859\u001b[0m             \u001b[0mself\u001b[0m\u001b[1;33m.\u001b[0m\u001b[0m_parent_header\u001b[0m\u001b[1;33m,\u001b[0m\u001b[1;33m\u001b[0m\u001b[1;33m\u001b[0m\u001b[0m\n",
      "\u001b[1;32md:\\installed softwares\\python\\lib\\site-packages\\ipykernel\\kernelbase.py\u001b[0m in \u001b[0;36m_input_request\u001b[1;34m(self, prompt, ident, parent, password)\u001b[0m\n\u001b[0;32m    899\u001b[0m             \u001b[1;32mexcept\u001b[0m \u001b[0mKeyboardInterrupt\u001b[0m\u001b[1;33m:\u001b[0m\u001b[1;33m\u001b[0m\u001b[1;33m\u001b[0m\u001b[0m\n\u001b[0;32m    900\u001b[0m                 \u001b[1;31m# re-raise KeyboardInterrupt, to truncate traceback\u001b[0m\u001b[1;33m\u001b[0m\u001b[1;33m\u001b[0m\u001b[1;33m\u001b[0m\u001b[0m\n\u001b[1;32m--> 901\u001b[1;33m                 \u001b[1;32mraise\u001b[0m \u001b[0mKeyboardInterrupt\u001b[0m\u001b[1;33m(\u001b[0m\u001b[1;34m\"Interrupted by user\"\u001b[0m\u001b[1;33m)\u001b[0m \u001b[1;32mfrom\u001b[0m \u001b[1;32mNone\u001b[0m\u001b[1;33m\u001b[0m\u001b[1;33m\u001b[0m\u001b[0m\n\u001b[0m\u001b[0;32m    902\u001b[0m             \u001b[1;32mexcept\u001b[0m \u001b[0mException\u001b[0m \u001b[1;32mas\u001b[0m \u001b[0me\u001b[0m\u001b[1;33m:\u001b[0m\u001b[1;33m\u001b[0m\u001b[1;33m\u001b[0m\u001b[0m\n\u001b[0;32m    903\u001b[0m                 \u001b[0mself\u001b[0m\u001b[1;33m.\u001b[0m\u001b[0mlog\u001b[0m\u001b[1;33m.\u001b[0m\u001b[0mwarning\u001b[0m\u001b[1;33m(\u001b[0m\u001b[1;34m\"Invalid Message:\"\u001b[0m\u001b[1;33m,\u001b[0m \u001b[0mexc_info\u001b[0m\u001b[1;33m=\u001b[0m\u001b[1;32mTrue\u001b[0m\u001b[1;33m)\u001b[0m\u001b[1;33m\u001b[0m\u001b[1;33m\u001b[0m\u001b[0m\n",
      "\u001b[1;31mKeyboardInterrupt\u001b[0m: Interrupted by user"
     ]
    }
   ],
   "source": [
    "while(1):    \n",
    "    f = input(\"Please enter your username: \")\n",
    "    if d.get(f) == None:\n",
    "        print(\"Username not registered... Try again\")\n",
    "    else:\n",
    "        passw = input(\"Please enter your Password: \")\n",
    "        if passw == d.get(f):\n",
    "            print(\"You are signed in...\")\n",
    "            break\n",
    "        else:\n",
    "            print(\"Incorrect password\")"
   ]
  },
  {
   "cell_type": "code",
   "execution_count": 49,
   "id": "swiss-tampa",
   "metadata": {},
   "outputs": [],
   "source": [
    "# Signup/SignIn System\n",
    "# WAP in python which gives two modes to the user:\n",
    "# Sign Up: To enroll the username and password of a new user.  e\n",
    "# Sign In: To authenticate the username & password of the input value.  a"
   ]
  },
  {
   "cell_type": "code",
   "execution_count": 66,
   "id": "major-tuesday",
   "metadata": {},
   "outputs": [],
   "source": [
    "def signup(d):\n",
    "    while(1):\n",
    "        eU = input(\"Enter a new Username: \")\n",
    "        if eU not in d:\n",
    "            eP = input(\"Enter a valid password: \")\n",
    "            # password check functionality\n",
    "            d[eU] = eP   #d.update({eU:eP})\n",
    "            print(\"Sign Up Successful...\")\n",
    "            return d\n",
    "        else:\n",
    "            print(\"Username already exists... Please try again\\n\")"
   ]
  },
  {
   "cell_type": "code",
   "execution_count": 3,
   "id": "impressed-terror",
   "metadata": {},
   "outputs": [
    {
     "name": "stdout",
     "output_type": "stream",
     "text": [
      "Enter your Username: Harshil123\n",
      "Please enter your password: 21\n",
      "Incorrect password. Please try again. 2 chances left\n",
      "Please enter your password: 312\n",
      "Incorrect password. Please try again. 1 chances left\n",
      "Please enter your password: 31\n",
      "Incorrect password. Please try again. 0 chances left\n"
     ]
    },
    {
     "ename": "KeyboardInterrupt",
     "evalue": "Interrupted by user",
     "output_type": "error",
     "traceback": [
      "\u001b[1;31m---------------------------------------------------------------------------\u001b[0m",
      "\u001b[1;31mKeyboardInterrupt\u001b[0m                         Traceback (most recent call last)",
      "\u001b[1;32m~\\AppData\\Local\\Temp/ipykernel_25296/694789026.py\u001b[0m in \u001b[0;36m<module>\u001b[1;34m\u001b[0m\n\u001b[0;32m     14\u001b[0m         \u001b[1;32melse\u001b[0m\u001b[1;33m:\u001b[0m\u001b[1;33m\u001b[0m\u001b[1;33m\u001b[0m\u001b[0m\n\u001b[0;32m     15\u001b[0m             \u001b[0mprint\u001b[0m\u001b[1;33m(\u001b[0m\u001b[1;34m\"Username doesn't exist. Please try again...\"\u001b[0m\u001b[1;33m)\u001b[0m\u001b[1;33m\u001b[0m\u001b[1;33m\u001b[0m\u001b[0m\n\u001b[1;32m---> 16\u001b[1;33m \u001b[0msignin\u001b[0m\u001b[1;33m(\u001b[0m\u001b[0md\u001b[0m\u001b[1;33m)\u001b[0m\u001b[1;33m\u001b[0m\u001b[1;33m\u001b[0m\u001b[0m\n\u001b[0m",
      "\u001b[1;32m~\\AppData\\Local\\Temp/ipykernel_25296/694789026.py\u001b[0m in \u001b[0;36msignin\u001b[1;34m(d)\u001b[0m\n\u001b[0;32m      1\u001b[0m \u001b[1;32mdef\u001b[0m \u001b[0msignin\u001b[0m\u001b[1;33m(\u001b[0m\u001b[0md\u001b[0m\u001b[1;33m)\u001b[0m\u001b[1;33m:\u001b[0m\u001b[1;33m\u001b[0m\u001b[1;33m\u001b[0m\u001b[0m\n\u001b[0;32m      2\u001b[0m     \u001b[1;32mwhile\u001b[0m\u001b[1;33m(\u001b[0m\u001b[1;36m1\u001b[0m\u001b[1;33m)\u001b[0m\u001b[1;33m:\u001b[0m\u001b[1;33m\u001b[0m\u001b[1;33m\u001b[0m\u001b[0m\n\u001b[1;32m----> 3\u001b[1;33m         \u001b[0maU\u001b[0m \u001b[1;33m=\u001b[0m \u001b[0minput\u001b[0m\u001b[1;33m(\u001b[0m\u001b[1;34m\"Enter your Username: \"\u001b[0m\u001b[1;33m)\u001b[0m\u001b[1;33m\u001b[0m\u001b[1;33m\u001b[0m\u001b[0m\n\u001b[0m\u001b[0;32m      4\u001b[0m         \u001b[1;32mif\u001b[0m \u001b[0maU\u001b[0m \u001b[1;32min\u001b[0m \u001b[0md\u001b[0m\u001b[1;33m:\u001b[0m\u001b[1;33m\u001b[0m\u001b[1;33m\u001b[0m\u001b[0m\n\u001b[0;32m      5\u001b[0m             \u001b[0mchance\u001b[0m \u001b[1;33m=\u001b[0m \u001b[1;36m1\u001b[0m\u001b[1;33m\u001b[0m\u001b[1;33m\u001b[0m\u001b[0m\n",
      "\u001b[1;32mc:\\users\\rchtp\\appdata\\local\\programs\\python\\python39\\lib\\site-packages\\ipykernel\\kernelbase.py\u001b[0m in \u001b[0;36mraw_input\u001b[1;34m(self, prompt)\u001b[0m\n\u001b[0;32m   1004\u001b[0m                 \u001b[1;34m\"raw_input was called, but this frontend does not support input requests.\"\u001b[0m\u001b[1;33m\u001b[0m\u001b[1;33m\u001b[0m\u001b[0m\n\u001b[0;32m   1005\u001b[0m             )\n\u001b[1;32m-> 1006\u001b[1;33m         return self._input_request(\n\u001b[0m\u001b[0;32m   1007\u001b[0m             \u001b[0mstr\u001b[0m\u001b[1;33m(\u001b[0m\u001b[0mprompt\u001b[0m\u001b[1;33m)\u001b[0m\u001b[1;33m,\u001b[0m\u001b[1;33m\u001b[0m\u001b[1;33m\u001b[0m\u001b[0m\n\u001b[0;32m   1008\u001b[0m             \u001b[0mself\u001b[0m\u001b[1;33m.\u001b[0m\u001b[0m_parent_ident\u001b[0m\u001b[1;33m[\u001b[0m\u001b[1;34m\"shell\"\u001b[0m\u001b[1;33m]\u001b[0m\u001b[1;33m,\u001b[0m\u001b[1;33m\u001b[0m\u001b[1;33m\u001b[0m\u001b[0m\n",
      "\u001b[1;32mc:\\users\\rchtp\\appdata\\local\\programs\\python\\python39\\lib\\site-packages\\ipykernel\\kernelbase.py\u001b[0m in \u001b[0;36m_input_request\u001b[1;34m(self, prompt, ident, parent, password)\u001b[0m\n\u001b[0;32m   1049\u001b[0m             \u001b[1;32mexcept\u001b[0m \u001b[0mKeyboardInterrupt\u001b[0m\u001b[1;33m:\u001b[0m\u001b[1;33m\u001b[0m\u001b[1;33m\u001b[0m\u001b[0m\n\u001b[0;32m   1050\u001b[0m                 \u001b[1;31m# re-raise KeyboardInterrupt, to truncate traceback\u001b[0m\u001b[1;33m\u001b[0m\u001b[1;33m\u001b[0m\u001b[1;33m\u001b[0m\u001b[0m\n\u001b[1;32m-> 1051\u001b[1;33m                 \u001b[1;32mraise\u001b[0m \u001b[0mKeyboardInterrupt\u001b[0m\u001b[1;33m(\u001b[0m\u001b[1;34m\"Interrupted by user\"\u001b[0m\u001b[1;33m)\u001b[0m \u001b[1;32mfrom\u001b[0m \u001b[1;32mNone\u001b[0m\u001b[1;33m\u001b[0m\u001b[1;33m\u001b[0m\u001b[0m\n\u001b[0m\u001b[0;32m   1052\u001b[0m             \u001b[1;32mexcept\u001b[0m \u001b[0mException\u001b[0m\u001b[1;33m:\u001b[0m\u001b[1;33m\u001b[0m\u001b[1;33m\u001b[0m\u001b[0m\n\u001b[0;32m   1053\u001b[0m                 \u001b[0mself\u001b[0m\u001b[1;33m.\u001b[0m\u001b[0mlog\u001b[0m\u001b[1;33m.\u001b[0m\u001b[0mwarning\u001b[0m\u001b[1;33m(\u001b[0m\u001b[1;34m\"Invalid Message:\"\u001b[0m\u001b[1;33m,\u001b[0m \u001b[0mexc_info\u001b[0m\u001b[1;33m=\u001b[0m\u001b[1;32mTrue\u001b[0m\u001b[1;33m)\u001b[0m\u001b[1;33m\u001b[0m\u001b[1;33m\u001b[0m\u001b[0m\n",
      "\u001b[1;31mKeyboardInterrupt\u001b[0m: Interrupted by user"
     ]
    }
   ],
   "source": [
    "def signin(d):\n",
    "    while(1):\n",
    "        aU = input(\"Enter your Username: \")\n",
    "        if aU in d:\n",
    "            chance = 1\n",
    "            while(chance < 4):\n",
    "                aP = input(\"Please enter your password: \")\n",
    "                if aP == d.get(aU):\n",
    "                    print(\"Sign In Successful.\")\n",
    "                    return d\n",
    "                else:\n",
    "                    print(\"Incorrect password. Please try again. \" + str(3-chance) + \" chances left\")\n",
    "                    chance += 1\n",
    "        else:\n",
    "            print(\"Username doesn't exist. Please try again...\")\n",
    "signin(d)"
   ]
  },
  {
   "cell_type": "code",
   "execution_count": 68,
   "id": "corrected-optimization",
   "metadata": {},
   "outputs": [],
   "source": [
    "# UPPER CASE\n",
    "# lower case\n",
    "# Title Case\n",
    "# Capitalize case\n",
    "# camelCase\n",
    "# some_var"
   ]
  },
  {
   "cell_type": "code",
   "execution_count": 69,
   "id": "sixth-company",
   "metadata": {},
   "outputs": [],
   "source": [
    "def main(d):\n",
    "    while(1):\n",
    "        mode = input(\"\"\"\n",
    "        Choose One:\n",
    "            Press 'e' for Sign Up\n",
    "            Press 'a' for Sign In\n",
    "            Press 's' for Exit\n",
    "            : \"\"\")\n",
    "        mode = mode.lower()\n",
    "        if mode == \"e\":\n",
    "            print(\"Sign Up\")\n",
    "            d = signup(d)\n",
    "            \n",
    "        elif mode == \"a\":\n",
    "            print(\"Sign In\")\n",
    "            d = signin(d)\n",
    "        elif mode == \"s\":\n",
    "            print(\"Thank you. Bye Bye\")\n",
    "            return d\n",
    "            #break\n",
    "        else:\n",
    "            print(\"Incorrect Input...Please Try again...\")"
   ]
  },
  {
   "cell_type": "code",
   "execution_count": 70,
   "id": "secondary-mixer",
   "metadata": {},
   "outputs": [
    {
     "name": "stdout",
     "output_type": "stream",
     "text": [
      "\n",
      "        Choose One:\n",
      "            Press 'e' for Sign Up\n",
      "            Press 'a' for Sign In\n",
      "            Press 's' for Exit\n",
      "            : e\n",
      "Sign Up\n",
      "Enter a new Username: harshil\n",
      "Enter a valid password: 1qwerty\n",
      "Sign Up Successful...\n",
      "\n",
      "        Choose One:\n",
      "            Press 'e' for Sign Up\n",
      "            Press 'a' for Sign In\n",
      "            Press 's' for Exit\n",
      "            : a\n",
      "Sign In\n",
      "Enter your Username: harshil\n",
      "Please enter your password: 1qwerty\n",
      "Sign In Successful.\n",
      "\n",
      "        Choose One:\n",
      "            Press 'e' for Sign Up\n",
      "            Press 'a' for Sign In\n",
      "            Press 's' for Exit\n",
      "            : s\n",
      "Thank you. Bye Bye\n"
     ]
    }
   ],
   "source": [
    "d = {}\n",
    "d = main(d)"
   ]
  },
  {
   "cell_type": "code",
   "execution_count": 71,
   "id": "improving-american",
   "metadata": {},
   "outputs": [
    {
     "data": {
      "text/plain": [
       "{'harshil': '1qwerty'}"
      ]
     },
     "execution_count": 71,
     "metadata": {},
     "output_type": "execute_result"
    }
   ],
   "source": [
    "d"
   ]
  },
  {
   "cell_type": "code",
   "execution_count": null,
   "id": "vulnerable-prophet",
   "metadata": {},
   "outputs": [],
   "source": []
  }
 ],
 "metadata": {
  "kernelspec": {
   "display_name": "Python 3 (ipykernel)",
   "language": "python",
   "name": "python3"
  },
  "language_info": {
   "codemirror_mode": {
    "name": "ipython",
    "version": 3
   },
   "file_extension": ".py",
   "mimetype": "text/x-python",
   "name": "python",
   "nbconvert_exporter": "python",
   "pygments_lexer": "ipython3",
   "version": "3.9.6"
  }
 },
 "nbformat": 4,
 "nbformat_minor": 5
}
