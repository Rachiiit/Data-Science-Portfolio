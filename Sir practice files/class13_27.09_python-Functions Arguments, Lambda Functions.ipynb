{
 "cells": [
  {
   "cell_type": "markdown",
   "id": "humanitarian-dragon",
   "metadata": {},
   "source": [
    "#### Required Argument / Positional Argument"
   ]
  },
  {
   "cell_type": "code",
   "execution_count": 3,
   "id": "entire-purchase",
   "metadata": {},
   "outputs": [],
   "source": [
    "def add1(a, b):  #Function Definition\n",
    "    c = a + b\n",
    "    print(c)\n",
    "    return"
   ]
  },
  {
   "cell_type": "code",
   "execution_count": 4,
   "id": "bibliographic-forestry",
   "metadata": {},
   "outputs": [
    {
     "name": "stdout",
     "output_type": "stream",
     "text": [
      "13\n"
     ]
    }
   ],
   "source": [
    "m = 4\n",
    "n = 9\n",
    "add1(m, n)   #Function Call"
   ]
  },
  {
   "cell_type": "markdown",
   "id": "oriented-holocaust",
   "metadata": {},
   "source": [
    "#### Keyword Argument"
   ]
  },
  {
   "cell_type": "code",
   "execution_count": 5,
   "id": "chubby-shadow",
   "metadata": {},
   "outputs": [],
   "source": [
    "def add2(a, b):  #Function Definition\n",
    "    c = a + b\n",
    "    print(c)\n",
    "    return"
   ]
  },
  {
   "cell_type": "code",
   "execution_count": 8,
   "id": "stretch-desire",
   "metadata": {},
   "outputs": [
    {
     "name": "stdout",
     "output_type": "stream",
     "text": [
      "13\n"
     ]
    }
   ],
   "source": [
    "m = 4\n",
    "n = 9\n",
    "# add1(m, n)   #Function Call  #Required Argument\n",
    "add2(b = n, a = m)   #Function Call   #Keyword Argument"
   ]
  },
  {
   "cell_type": "markdown",
   "id": "varied-devon",
   "metadata": {},
   "source": [
    "#### Default Argument"
   ]
  },
  {
   "cell_type": "code",
   "execution_count": 12,
   "id": "lesser-details",
   "metadata": {},
   "outputs": [],
   "source": [
    "def add3(b, a = 10):  #Function Definition  #Default Argument\n",
    "    c = a + b\n",
    "    print(c)\n",
    "    return"
   ]
  },
  {
   "cell_type": "code",
   "execution_count": 13,
   "id": "naked-formation",
   "metadata": {
    "scrolled": true
   },
   "outputs": [
    {
     "name": "stdout",
     "output_type": "stream",
     "text": [
      "13\n",
      "19\n"
     ]
    }
   ],
   "source": [
    "m = 4\n",
    "n = 9\n",
    "# add1(m, n)   #Function Call  #Required Argument\n",
    "# add2(b = n, a = m)   #Function Call   #Keyword Argument\n",
    "add3(b = n, a = m)  #Default with Keyword\n",
    "add3(b = n)"
   ]
  },
  {
   "cell_type": "code",
   "execution_count": 18,
   "id": "introductory-siemens",
   "metadata": {},
   "outputs": [
    {
     "name": "stdout",
     "output_type": "stream",
     "text": [
      "18\n",
      "19\n"
     ]
    }
   ],
   "source": [
    "m = 4\n",
    "n = 9\n",
    "# add1(m, n)   #Function Call  #Required Argument\n",
    "# add2(b = n, a = m)   #Function Call   #Keyword Argument\n",
    "add3(n, a = n)  #Default with Required & Keyword both\n",
    "add3(n)"
   ]
  },
  {
   "cell_type": "markdown",
   "id": "competent-inventory",
   "metadata": {},
   "source": [
    "#### Variable length Argument - Non-keyworded"
   ]
  },
  {
   "cell_type": "code",
   "execution_count": 49,
   "id": "casual-composition",
   "metadata": {},
   "outputs": [],
   "source": [
    "def add(x, y, *z):\n",
    "    print(x, y)\n",
    "    print(z)\n",
    "    for i in z:\n",
    "        print(i)"
   ]
  },
  {
   "cell_type": "code",
   "execution_count": 50,
   "id": "german-region",
   "metadata": {},
   "outputs": [
    {
     "name": "stdout",
     "output_type": "stream",
     "text": [
      "2 7\n",
      "(8, 9)\n",
      "8\n",
      "9\n"
     ]
    }
   ],
   "source": [
    "add(2,7,8,9)"
   ]
  },
  {
   "cell_type": "code",
   "execution_count": 51,
   "id": "alive-continent",
   "metadata": {},
   "outputs": [
    {
     "name": "stdout",
     "output_type": "stream",
     "text": [
      "2 3\n",
      "()\n"
     ]
    }
   ],
   "source": [
    "add(2,3)"
   ]
  },
  {
   "cell_type": "code",
   "execution_count": 52,
   "id": "sapphire-father",
   "metadata": {},
   "outputs": [
    {
     "name": "stdout",
     "output_type": "stream",
     "text": [
      "2 3\n",
      "(4,)\n",
      "4\n"
     ]
    }
   ],
   "source": [
    "add(2,3,4)"
   ]
  },
  {
   "cell_type": "markdown",
   "id": "incorporate-rider",
   "metadata": {},
   "source": [
    "#### Variable length Argument - Keyworded"
   ]
  },
  {
   "cell_type": "code",
   "execution_count": 46,
   "id": "wired-sunday",
   "metadata": {},
   "outputs": [],
   "source": [
    "def add(**x):\n",
    "    print(x)\n",
    "    for i, j in x.items():\n",
    "        print(i, j)"
   ]
  },
  {
   "cell_type": "code",
   "execution_count": 47,
   "id": "pleasant-terminology",
   "metadata": {},
   "outputs": [
    {
     "name": "stdout",
     "output_type": "stream",
     "text": [
      "{'f': '1', 'g': '2', 'h': '3'}\n",
      "f 1\n",
      "g 2\n",
      "h 3\n"
     ]
    }
   ],
   "source": [
    "add(f = \"1\", g = '2', h = '3')"
   ]
  },
  {
   "cell_type": "markdown",
   "id": "heard-faith",
   "metadata": {},
   "source": [
    "#### Variable Length Argument - \n",
    "#### Combination of Keyworded and Non-keyworded Argument"
   ]
  },
  {
   "cell_type": "code",
   "execution_count": 55,
   "id": "curious-springer",
   "metadata": {},
   "outputs": [],
   "source": [
    "def add5(p, *x, **y):\n",
    "    print(p)\n",
    "    print(x)\n",
    "    print(y)"
   ]
  },
  {
   "cell_type": "code",
   "execution_count": 57,
   "id": "present-formula",
   "metadata": {},
   "outputs": [
    {
     "name": "stdout",
     "output_type": "stream",
     "text": [
      "0\n",
      "(2, 3, 4)\n",
      "{'a': 2, 'b': 3, 'c': 4}\n"
     ]
    }
   ],
   "source": [
    "add5(0,2,3,4,a = 2, b = 3, c = 4)"
   ]
  },
  {
   "cell_type": "markdown",
   "id": "developmental-count",
   "metadata": {},
   "source": [
    "### Lambda Functions"
   ]
  },
  {
   "cell_type": "code",
   "execution_count": 60,
   "id": "surrounded-bolivia",
   "metadata": {},
   "outputs": [],
   "source": [
    "# def add1(a, b):  #Function Definition\n",
    "#     c = a + b\n",
    "#     print(c)\n",
    "#     return\n",
    "\n",
    "add7 = lambda a, b: print(a + b)"
   ]
  },
  {
   "cell_type": "code",
   "execution_count": 61,
   "id": "amazing-rapid",
   "metadata": {},
   "outputs": [
    {
     "name": "stdout",
     "output_type": "stream",
     "text": [
      "5\n"
     ]
    }
   ],
   "source": [
    "add7(2,3)"
   ]
  },
  {
   "cell_type": "code",
   "execution_count": 64,
   "id": "essential-niger",
   "metadata": {},
   "outputs": [],
   "source": [
    "# def grade(a):\n",
    "#     if a > 40:\n",
    "#         print(\"Passed\")\n",
    "#     else:\n",
    "#         print(\"Failed\")\n",
    "\n",
    "grade = lambda a: print(\"Passed\") if a > 40 else print(\"Failed\")"
   ]
  },
  {
   "cell_type": "code",
   "execution_count": 65,
   "id": "conscious-triangle",
   "metadata": {},
   "outputs": [
    {
     "name": "stdout",
     "output_type": "stream",
     "text": [
      ": 90\n",
      "Passed\n",
      ": 23\n",
      "Failed\n"
     ]
    },
    {
     "ename": "KeyboardInterrupt",
     "evalue": "Interrupted by user",
     "output_type": "error",
     "traceback": [
      "\u001b[1;31m---------------------------------------------------------------------------\u001b[0m",
      "\u001b[1;31mKeyboardInterrupt\u001b[0m                         Traceback (most recent call last)",
      "\u001b[1;32m<ipython-input-65-05ec1718be01>\u001b[0m in \u001b[0;36m<module>\u001b[1;34m\u001b[0m\n\u001b[0;32m      1\u001b[0m \u001b[1;32mwhile\u001b[0m\u001b[1;33m(\u001b[0m\u001b[1;36m1\u001b[0m\u001b[1;33m)\u001b[0m\u001b[1;33m:\u001b[0m\u001b[1;33m\u001b[0m\u001b[1;33m\u001b[0m\u001b[0m\n\u001b[1;32m----> 2\u001b[1;33m     \u001b[0mgrade\u001b[0m\u001b[1;33m(\u001b[0m\u001b[0mint\u001b[0m\u001b[1;33m(\u001b[0m\u001b[0minput\u001b[0m\u001b[1;33m(\u001b[0m\u001b[1;34m\": \"\u001b[0m\u001b[1;33m)\u001b[0m\u001b[1;33m)\u001b[0m\u001b[1;33m)\u001b[0m\u001b[1;33m\u001b[0m\u001b[1;33m\u001b[0m\u001b[0m\n\u001b[0m",
      "\u001b[1;32md:\\installed softwares\\python\\lib\\site-packages\\ipykernel\\kernelbase.py\u001b[0m in \u001b[0;36mraw_input\u001b[1;34m(self, prompt)\u001b[0m\n\u001b[0;32m    855\u001b[0m                 \u001b[1;34m\"raw_input was called, but this frontend does not support input requests.\"\u001b[0m\u001b[1;33m\u001b[0m\u001b[1;33m\u001b[0m\u001b[0m\n\u001b[0;32m    856\u001b[0m             )\n\u001b[1;32m--> 857\u001b[1;33m         return self._input_request(str(prompt),\n\u001b[0m\u001b[0;32m    858\u001b[0m             \u001b[0mself\u001b[0m\u001b[1;33m.\u001b[0m\u001b[0m_parent_ident\u001b[0m\u001b[1;33m,\u001b[0m\u001b[1;33m\u001b[0m\u001b[1;33m\u001b[0m\u001b[0m\n\u001b[0;32m    859\u001b[0m             \u001b[0mself\u001b[0m\u001b[1;33m.\u001b[0m\u001b[0m_parent_header\u001b[0m\u001b[1;33m,\u001b[0m\u001b[1;33m\u001b[0m\u001b[1;33m\u001b[0m\u001b[0m\n",
      "\u001b[1;32md:\\installed softwares\\python\\lib\\site-packages\\ipykernel\\kernelbase.py\u001b[0m in \u001b[0;36m_input_request\u001b[1;34m(self, prompt, ident, parent, password)\u001b[0m\n\u001b[0;32m    899\u001b[0m             \u001b[1;32mexcept\u001b[0m \u001b[0mKeyboardInterrupt\u001b[0m\u001b[1;33m:\u001b[0m\u001b[1;33m\u001b[0m\u001b[1;33m\u001b[0m\u001b[0m\n\u001b[0;32m    900\u001b[0m                 \u001b[1;31m# re-raise KeyboardInterrupt, to truncate traceback\u001b[0m\u001b[1;33m\u001b[0m\u001b[1;33m\u001b[0m\u001b[1;33m\u001b[0m\u001b[0m\n\u001b[1;32m--> 901\u001b[1;33m                 \u001b[1;32mraise\u001b[0m \u001b[0mKeyboardInterrupt\u001b[0m\u001b[1;33m(\u001b[0m\u001b[1;34m\"Interrupted by user\"\u001b[0m\u001b[1;33m)\u001b[0m \u001b[1;32mfrom\u001b[0m \u001b[1;32mNone\u001b[0m\u001b[1;33m\u001b[0m\u001b[1;33m\u001b[0m\u001b[0m\n\u001b[0m\u001b[0;32m    902\u001b[0m             \u001b[1;32mexcept\u001b[0m \u001b[0mException\u001b[0m \u001b[1;32mas\u001b[0m \u001b[0me\u001b[0m\u001b[1;33m:\u001b[0m\u001b[1;33m\u001b[0m\u001b[1;33m\u001b[0m\u001b[0m\n\u001b[0;32m    903\u001b[0m                 \u001b[0mself\u001b[0m\u001b[1;33m.\u001b[0m\u001b[0mlog\u001b[0m\u001b[1;33m.\u001b[0m\u001b[0mwarning\u001b[0m\u001b[1;33m(\u001b[0m\u001b[1;34m\"Invalid Message:\"\u001b[0m\u001b[1;33m,\u001b[0m \u001b[0mexc_info\u001b[0m\u001b[1;33m=\u001b[0m\u001b[1;32mTrue\u001b[0m\u001b[1;33m)\u001b[0m\u001b[1;33m\u001b[0m\u001b[1;33m\u001b[0m\u001b[0m\n",
      "\u001b[1;31mKeyboardInterrupt\u001b[0m: Interrupted by user"
     ]
    }
   ],
   "source": [
    "while(1):\n",
    "    grade(int(input(\": \")))"
   ]
  },
  {
   "cell_type": "code",
   "execution_count": null,
   "id": "french-charge",
   "metadata": {},
   "outputs": [],
   "source": []
  },
  {
   "cell_type": "code",
   "execution_count": null,
   "id": "unauthorized-class",
   "metadata": {},
   "outputs": [],
   "source": []
  },
  {
   "cell_type": "code",
   "execution_count": null,
   "id": "corporate-indian",
   "metadata": {},
   "outputs": [],
   "source": []
  },
  {
   "cell_type": "code",
   "execution_count": null,
   "id": "assisted-booth",
   "metadata": {},
   "outputs": [],
   "source": []
  },
  {
   "cell_type": "code",
   "execution_count": 62,
   "id": "qualified-harvest",
   "metadata": {},
   "outputs": [],
   "source": [
    "# Out of Topic Concepts"
   ]
  },
  {
   "cell_type": "code",
   "execution_count": 43,
   "id": "irish-pursuit",
   "metadata": {},
   "outputs": [
    {
     "data": {
      "text/plain": [
       "[[1, 2], [3, 4]]"
      ]
     },
     "execution_count": 43,
     "metadata": {},
     "output_type": "execute_result"
    }
   ],
   "source": [
    "l = [[1,2],\n",
    "    [3,4]]\n",
    "l"
   ]
  },
  {
   "cell_type": "code",
   "execution_count": 44,
   "id": "hollow-booth",
   "metadata": {
    "scrolled": true
   },
   "outputs": [
    {
     "data": {
      "text/plain": [
       "[1, 2]"
      ]
     },
     "execution_count": 44,
     "metadata": {},
     "output_type": "execute_result"
    }
   ],
   "source": [
    "l[0]"
   ]
  },
  {
   "cell_type": "code",
   "execution_count": 45,
   "id": "ceramic-height",
   "metadata": {},
   "outputs": [
    {
     "data": {
      "text/plain": [
       "2"
      ]
     },
     "execution_count": 45,
     "metadata": {},
     "output_type": "execute_result"
    }
   ],
   "source": [
    "l[0][1]"
   ]
  },
  {
   "cell_type": "code",
   "execution_count": null,
   "id": "green-saskatchewan",
   "metadata": {},
   "outputs": [],
   "source": []
  },
  {
   "cell_type": "code",
   "execution_count": 27,
   "id": "acquired-palmer",
   "metadata": {},
   "outputs": [
    {
     "name": "stdout",
     "output_type": "stream",
     "text": [
      "Hello\n"
     ]
    }
   ],
   "source": [
    "print(\"Hello\")"
   ]
  },
  {
   "cell_type": "code",
   "execution_count": 26,
   "id": "found-optimum",
   "metadata": {},
   "outputs": [
    {
     "name": "stdout",
     "output_type": "stream",
     "text": [
      "Hello \n",
      "\n"
     ]
    }
   ],
   "source": [
    "print(\"Hello\", \"\\n\")"
   ]
  },
  {
   "cell_type": "code",
   "execution_count": 28,
   "id": "korean-phoenix",
   "metadata": {},
   "outputs": [
    {
     "name": "stdout",
     "output_type": "stream",
     "text": [
      "Hello \n",
      "else"
     ]
    }
   ],
   "source": [
    "print(\"Hello\", \"\\n\", end = \"else\")"
   ]
  },
  {
   "cell_type": "code",
   "execution_count": 29,
   "id": "likely-premium",
   "metadata": {},
   "outputs": [
    {
     "name": "stdout",
     "output_type": "stream",
     "text": [
      "Hello\n",
      "World\n"
     ]
    }
   ],
   "source": [
    "print(\"Hello\", end = '\\n')\n",
    "print(\"World\")"
   ]
  },
  {
   "cell_type": "code",
   "execution_count": null,
   "id": "entire-sponsorship",
   "metadata": {},
   "outputs": [],
   "source": []
  }
 ],
 "metadata": {
  "kernelspec": {
   "display_name": "Python 3",
   "language": "python",
   "name": "python3"
  },
  "language_info": {
   "codemirror_mode": {
    "name": "ipython",
    "version": 3
   },
   "file_extension": ".py",
   "mimetype": "text/x-python",
   "name": "python",
   "nbconvert_exporter": "python",
   "pygments_lexer": "ipython3",
   "version": "3.9.1"
  }
 },
 "nbformat": 4,
 "nbformat_minor": 5
}
