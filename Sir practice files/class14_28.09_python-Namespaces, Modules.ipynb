{
 "cells": [
  {
   "cell_type": "code",
   "execution_count": null,
   "id": "proud-dividend",
   "metadata": {},
   "outputs": [],
   "source": [
    "import math\n",
    "import platform"
   ]
  },
  {
   "cell_type": "code",
   "execution_count": null,
   "id": "fiscal-fishing",
   "metadata": {},
   "outputs": [],
   "source": [
    "math.sin(math.pi/2)"
   ]
  },
  {
   "cell_type": "code",
   "execution_count": null,
   "id": "widespread-cleaner",
   "metadata": {},
   "outputs": [],
   "source": [
    "platform.architecture()"
   ]
  },
  {
   "cell_type": "code",
   "execution_count": null,
   "id": "conscious-camcorder",
   "metadata": {},
   "outputs": [],
   "source": [
    "platform.system()"
   ]
  },
  {
   "cell_type": "code",
   "execution_count": null,
   "id": "informal-findings",
   "metadata": {},
   "outputs": [],
   "source": [
    "platform.node()"
   ]
  },
  {
   "cell_type": "code",
   "execution_count": null,
   "id": "annual-grove",
   "metadata": {},
   "outputs": [],
   "source": [
    "platform.machine()"
   ]
  },
  {
   "cell_type": "code",
   "execution_count": null,
   "id": "finnish-convert",
   "metadata": {},
   "outputs": [],
   "source": [
    "platform.version()"
   ]
  },
  {
   "cell_type": "code",
   "execution_count": null,
   "id": "union-emergency",
   "metadata": {},
   "outputs": [],
   "source": [
    "platform.processor()"
   ]
  },
  {
   "cell_type": "code",
   "execution_count": null,
   "id": "prerequisite-framing",
   "metadata": {},
   "outputs": [],
   "source": [
    "platform.x"
   ]
  },
  {
   "cell_type": "code",
   "execution_count": null,
   "id": "gothic-instruction",
   "metadata": {},
   "outputs": [],
   "source": [
    "math.pi"
   ]
  },
  {
   "cell_type": "code",
   "execution_count": null,
   "id": "adapted-shape",
   "metadata": {},
   "outputs": [],
   "source": [
    "pi"
   ]
  },
  {
   "cell_type": "code",
   "execution_count": null,
   "id": "driven-suspect",
   "metadata": {},
   "outputs": [],
   "source": [
    "import module1 as m1\n",
    "import module2 as m2"
   ]
  },
  {
   "cell_type": "code",
   "execution_count": null,
   "id": "framed-vertex",
   "metadata": {},
   "outputs": [],
   "source": [
    "r = m1.add(3,7)"
   ]
  },
  {
   "cell_type": "code",
   "execution_count": null,
   "id": "falling-milan",
   "metadata": {
    "scrolled": true
   },
   "outputs": [],
   "source": [
    "m2.add()"
   ]
  },
  {
   "cell_type": "code",
   "execution_count": null,
   "id": "trained-citizenship",
   "metadata": {},
   "outputs": [],
   "source": [
    "m1.mo1"
   ]
  },
  {
   "cell_type": "code",
   "execution_count": null,
   "id": "reported-problem",
   "metadata": {},
   "outputs": [],
   "source": [
    "m1.d[1]"
   ]
  },
  {
   "cell_type": "code",
   "execution_count": null,
   "id": "tutorial-soviet",
   "metadata": {},
   "outputs": [],
   "source": [
    "from module1 import add as a"
   ]
  },
  {
   "cell_type": "code",
   "execution_count": null,
   "id": "comprehensive-morning",
   "metadata": {},
   "outputs": [],
   "source": [
    "r = a(3,5)"
   ]
  },
  {
   "cell_type": "code",
   "execution_count": null,
   "id": "postal-runner",
   "metadata": {},
   "outputs": [],
   "source": [
    "module1.a()"
   ]
  },
  {
   "cell_type": "code",
   "execution_count": null,
   "id": "scenic-biodiversity",
   "metadata": {},
   "outputs": [],
   "source": [
    "def a():\n",
    "    print(\"Hello\")"
   ]
  },
  {
   "cell_type": "code",
   "execution_count": null,
   "id": "spectacular-wonder",
   "metadata": {},
   "outputs": [],
   "source": [
    "r = a()"
   ]
  },
  {
   "cell_type": "code",
   "execution_count": null,
   "id": "sought-scholarship",
   "metadata": {},
   "outputs": [],
   "source": [
    "module1.add(3,4)"
   ]
  },
  {
   "cell_type": "code",
   "execution_count": 1,
   "id": "turned-adrian",
   "metadata": {},
   "outputs": [],
   "source": [
    "from module1 import *"
   ]
  },
  {
   "cell_type": "code",
   "execution_count": 2,
   "id": "inappropriate-singles",
   "metadata": {},
   "outputs": [
    {
     "name": "stdout",
     "output_type": "stream",
     "text": [
      "7\n"
     ]
    },
    {
     "data": {
      "text/plain": [
       "7"
      ]
     },
     "execution_count": 2,
     "metadata": {},
     "output_type": "execute_result"
    }
   ],
   "source": [
    "add(3,4)"
   ]
  },
  {
   "cell_type": "code",
   "execution_count": 4,
   "id": "inside-consistency",
   "metadata": {},
   "outputs": [
    {
     "name": "stdout",
     "output_type": "stream",
     "text": [
      "4\n"
     ]
    }
   ],
   "source": [
    "subtract()"
   ]
  },
  {
   "cell_type": "code",
   "execution_count": 5,
   "id": "responsible-ethics",
   "metadata": {},
   "outputs": [
    {
     "data": {
      "text/plain": [
       "'Hello'"
      ]
     },
     "execution_count": 5,
     "metadata": {},
     "output_type": "execute_result"
    }
   ],
   "source": [
    "mo1"
   ]
  },
  {
   "cell_type": "code",
   "execution_count": 6,
   "id": "hawaiian-hearts",
   "metadata": {},
   "outputs": [
    {
     "data": {
      "text/plain": [
       "{1: 2}"
      ]
     },
     "execution_count": 6,
     "metadata": {},
     "output_type": "execute_result"
    }
   ],
   "source": [
    "d"
   ]
  },
  {
   "cell_type": "code",
   "execution_count": null,
   "id": "clear-strategy",
   "metadata": {},
   "outputs": [],
   "source": []
  }
 ],
 "metadata": {
  "kernelspec": {
   "display_name": "Python 3",
   "language": "python",
   "name": "python3"
  },
  "language_info": {
   "codemirror_mode": {
    "name": "ipython",
    "version": 3
   },
   "file_extension": ".py",
   "mimetype": "text/x-python",
   "name": "python",
   "nbconvert_exporter": "python",
   "pygments_lexer": "ipython3",
   "version": "3.9.1"
  }
 },
 "nbformat": 4,
 "nbformat_minor": 5
}
