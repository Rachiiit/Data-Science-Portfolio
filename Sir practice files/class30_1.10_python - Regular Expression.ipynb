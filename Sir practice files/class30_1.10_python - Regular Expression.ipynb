{
 "cells": [
  {
   "cell_type": "markdown",
   "id": "confused-service",
   "metadata": {},
   "source": [
    "# RegEx"
   ]
  },
  {
   "cell_type": "code",
   "execution_count": 9,
   "id": "knowing-privacy",
   "metadata": {},
   "outputs": [],
   "source": [
    "import re"
   ]
  },
  {
   "cell_type": "code",
   "execution_count": null,
   "id": "annoying-arabic",
   "metadata": {},
   "outputs": [],
   "source": [
    "text = \"Hi, my email address is something@anything.com\""
   ]
  },
  {
   "cell_type": "code",
   "execution_count": 25,
   "id": "powerful-budapest",
   "metadata": {},
   "outputs": [],
   "source": [
    "x = \"\"\"abcedefghijklmnopqrstuvwxyz\n",
    "ABCDEFGHIJKLMNOPQRSTUVWXYZ\n",
    "some.one@gmail.com\n",
    "anything123@gmail.com\n",
    "9354-328-885\n",
    "9354.328.885\n",
    "Mr. Someone\n",
    "Mr. Anything\"\"\""
   ]
  },
  {
   "cell_type": "code",
   "execution_count": 3,
   "id": "motivated-maintenance",
   "metadata": {},
   "outputs": [],
   "source": [
    "fo = open('regularsome.txt', 'r')\n",
    "x = fo.read()\n",
    "fo.close()"
   ]
  },
  {
   "cell_type": "code",
   "execution_count": 5,
   "id": "comic-darwin",
   "metadata": {},
   "outputs": [
    {
     "name": "stdout",
     "output_type": "stream",
     "text": [
      "abcedefghijklmnopqrstuvwxyz\n",
      "ABCDEFGHIJKLMNOPQRSTUVWXYZ\n",
      "someone@gmail.com\n",
      "anything123@gmail.com\n",
      "9354-328-885\n",
      "9354.328.885\n",
      "Mr. Someone\n",
      "Mr. Anything\n"
     ]
    }
   ],
   "source": [
    "print(x)"
   ]
  },
  {
   "cell_type": "code",
   "execution_count": 6,
   "id": "russian-variation",
   "metadata": {},
   "outputs": [
    {
     "name": "stdout",
     "output_type": "stream",
     "text": [
      "Hello\n",
      "World\n"
     ]
    }
   ],
   "source": [
    "print(\"Hello\\nWorld\")        # \\n Excape Character"
   ]
  },
  {
   "cell_type": "code",
   "execution_count": 7,
   "id": "legitimate-georgia",
   "metadata": {},
   "outputs": [
    {
     "name": "stdout",
     "output_type": "stream",
     "text": [
      "Hello\\nWorld\n"
     ]
    }
   ],
   "source": [
    "print(r'Hello\\nWorld')       #Raw String Literal"
   ]
  },
  {
   "cell_type": "code",
   "execution_count": 31,
   "id": "liable-detector",
   "metadata": {},
   "outputs": [
    {
     "name": "stdout",
     "output_type": "stream",
     "text": [
      "['some.one@gmail.com', 'anything123@gmail.com']\n"
     ]
    }
   ],
   "source": [
    "# Returns a list containing all matches\n",
    "xr = re.findall(r'[\\w|\\.]*@gmail.com', x)    #Raw String\n",
    "print(xr)"
   ]
  },
  {
   "cell_type": "markdown",
   "id": "affected-selection",
   "metadata": {},
   "source": [
    "### Metacharacters\n",
    "Metacharacters are characters with a special meaning:"
   ]
  },
  {
   "cell_type": "code",
   "execution_count": 12,
   "id": "defensive-electric",
   "metadata": {},
   "outputs": [],
   "source": [
    "# []\tA set of characters\t\"[a-m]\"\t\n",
    "# \\\tSignals a special sequence (can also be used to escape special characters)\t\"\\d\"\t\n",
    "# .\tAny character (except newline character)\t\"he..o\"\t\n",
    "# ^\tStarts with\t\"^hello\"\t\n",
    "# $\tEnds with\t\"planet$\"\t\n",
    "# |\tEither or\t\"falls|stays\"\t\n",
    "# ()\tCapture and group\n",
    "\n",
    "# Quantifiers\n",
    "# *\tZero or more occurrences\t\"he.*o\"\t\n",
    "# +\tOne or more occurrences\t\"he.+o\"\t\n",
    "# ?\tZero or one occurrences\t\"he.?o\"\t\n",
    "# {}\tExactly the specified number of occurrences\t\"he{2}o\"\t\n",
    "# {3,4}\tSpecified Range of occurrences"
   ]
  },
  {
   "cell_type": "markdown",
   "id": "distributed-burlington",
   "metadata": {},
   "source": [
    "### Special Sequences\n",
    "A special sequence is a \\ followed by one of the characters in the list below, and has a special meaning:"
   ]
  },
  {
   "cell_type": "code",
   "execution_count": 13,
   "id": "weekly-wiring",
   "metadata": {},
   "outputs": [],
   "source": [
    "# \\A\tReturns a match if the specified characters are at the beginning of the string\t\"\\AThe\"\t\n",
    "# \\b\tReturns a match where the specified characters are at the beginning or at the end of a word\n",
    "# (the \"r\" in the beginning is making sure that the string is being treated as a \"raw string\")\tr\"\\bain\" r\"ain\\b\"\t\n",
    "# \\B\tReturns a match where the specified characters are present, but NOT at the beginning (or at the end) of a word\n",
    "# (the \"r\" in the beginning is making sure that the string is being treated as a \"raw string\")\tr\"\\Bain\" r\"ain\\B\"\t\n",
    "# \\d\tReturns a match where the string contains digits (numbers from 0-9)\t\"\\d\"\t\n",
    "# \\D\tReturns a match where the string DOES NOT contain digits\t\"\\D\"\t\n",
    "# \\s\tReturns a match where the string contains a white space character\t\"\\s\"\t\n",
    "# \\S\tReturns a match where the string DOES NOT contain a white space character\t\"\\S\"\t\n",
    "# \\w\tReturns a match where the string contains any word characters (characters from a to Z, digits from 0-9, \n",
    "# and the underscore _ character)\t\"\\w\"\t\n",
    "# \\W\tReturns a match where the string DOES NOT contain any word characters\t\"\\W\"\t\n",
    "# \\Z\tReturns a match if the specified characters are at the end of the string\t\"Spain\\Z\""
   ]
  },
  {
   "cell_type": "markdown",
   "id": "fossil-cargo",
   "metadata": {},
   "source": [
    "### Sets\n",
    "A set is a set of characters inside a pair of square brackets [] with a special meaning:"
   ]
  },
  {
   "cell_type": "code",
   "execution_count": 14,
   "id": "rubber-capacity",
   "metadata": {},
   "outputs": [],
   "source": [
    "# [arn]\tReturns a match where one of the specified characters (a, r, or n) are present\t\n",
    "# [a-n]\tReturns a match for any lower case character, alphabetically between a and n\t\n",
    "# [^arn]\tReturns a match for any character EXCEPT a, r, and n\t\n",
    "# [0123]\tReturns a match where any of the specified digits (0, 1, 2, or 3) are present\t\n",
    "# [0-9]\tReturns a match for any digit between 0 and 9\t\n",
    "# [0-5][0-9]\tReturns a match for any two-digit numbers from 00 and 59\t\n",
    "# [a-zA-Z]\tReturns a match for any character alphabetically between a and z, lower case OR upper case\t\n",
    "# [+]\tIn sets, +, *, ., |, (), $,{} has no special meaning, so [+] means: return a match for any + character in the string"
   ]
  },
  {
   "cell_type": "markdown",
   "id": "silent-guarantee",
   "metadata": {},
   "source": [
    "### Methods in re\n",
    "- re.match - return match object if pattern is found in the beginning of the string , else returns None\n",
    "- re.search - return match object for first occurence of the pattern in the string else returns None.\n",
    "- re.findall - returns a list of all the matches else returns empty list\n",
    "- re.split - returns a list of strings splitted from the given pattern/separator\n",
    "- re.sub - substitute the pattern in the string\n",
    "- re.finditer - Creates an iterator on the matches."
   ]
  },
  {
   "cell_type": "code",
   "execution_count": 48,
   "id": "proved-channel",
   "metadata": {
    "scrolled": true
   },
   "outputs": [
    {
     "name": "stdout",
     "output_type": "stream",
     "text": [
      "abcedefghijklmnopqrstuvwxyz\n",
      "ABCDEFGHIJKLMNOPQRSTUVWXYZ\n",
      "some.one@gmail.com\n",
      "anything123@gmail.com\n",
      "9354-328-885\n",
      "9354.328.885\n",
      "Mr. Someone\n",
      "Mr. Anything\n"
     ]
    }
   ],
   "source": [
    "x = \"\"\"abcedefghijklmnopqrstuvwxyz\n",
    "ABCDEFGHIJKLMNOPQRSTUVWXYZ\n",
    "some.one@gmail.com\n",
    "anything123@gmail.com\n",
    "9354-328-885\n",
    "9354.328.885\n",
    "Mr. Someone\n",
    "Mr. Anything\"\"\"\n",
    "print(x)"
   ]
  },
  {
   "cell_type": "code",
   "execution_count": 49,
   "id": "interstate-right",
   "metadata": {},
   "outputs": [
    {
     "name": "stdout",
     "output_type": "stream",
     "text": [
      "<re.Match object; span=(0, 2), match='ab'>\n"
     ]
    }
   ],
   "source": [
    "res = re.match(r'[a-z][a-z]', x)\n",
    "print(res)"
   ]
  },
  {
   "cell_type": "code",
   "execution_count": 84,
   "id": "equipped-barbados",
   "metadata": {},
   "outputs": [
    {
     "name": "stdout",
     "output_type": "stream",
     "text": [
      "None\n"
     ]
    }
   ],
   "source": [
    "res = re.search(r'[#]|[!]', x)\n",
    "print(res)"
   ]
  },
  {
   "cell_type": "code",
   "execution_count": 50,
   "id": "occasional-vermont",
   "metadata": {},
   "outputs": [
    {
     "name": "stdout",
     "output_type": "stream",
     "text": [
      "(0, 2)\n"
     ]
    }
   ],
   "source": [
    "res = re.match(r'[a-z][a-z]', x)\n",
    "print(res.span())"
   ]
  },
  {
   "cell_type": "markdown",
   "id": "applicable-acting",
   "metadata": {},
   "source": [
    "We use group() method to get all the matches and captured groups. \n",
    "The groups contain the matched values.\n",
    "In particular:\n",
    "- match.group(0) always returns the fully matched string\n",
    "- match.group(1) match.group(2), ... return the capture groups in order from left to right in the input string\n",
    "- match.group() is equivalent to match.group(0)"
   ]
  },
  {
   "cell_type": "code",
   "execution_count": 52,
   "id": "double-offer",
   "metadata": {},
   "outputs": [
    {
     "name": "stdout",
     "output_type": "stream",
     "text": [
      "<re.Match object; span=(122, 124), match='Mr'>\n"
     ]
    }
   ],
   "source": [
    "res = re.search(r'[A-Z][a-z]', x)\n",
    "print(res)"
   ]
  },
  {
   "cell_type": "code",
   "execution_count": 63,
   "id": "expressed-decision",
   "metadata": {},
   "outputs": [
    {
     "name": "stdout",
     "output_type": "stream",
     "text": [
      "<re.Match object; span=(14, 26), match='June 24 2012'>\n",
      "Full match: June 24 2012\n",
      "Month: June\n",
      "Day: 24\n",
      "year: 2012\n"
     ]
    }
   ],
   "source": [
    "regex = r\"([a-zA-Z]+) (\\d{2}) (\\d{4})\"      # r\"([a-zA-Z]+) (\\d+)\"\n",
    "string = \"I was born on June 24 2012\"\n",
    "s = re.search(regex, string)\n",
    "print(s)\n",
    "\n",
    "# So this will print \"June 24\"\n",
    "print (\"Full match: %s\" % (s.group()))\n",
    "  \n",
    "# So this will print \"June\"\n",
    "print (\"Month: %s\" % (s.group(1)))\n",
    "  \n",
    "# So this will print \"24\"\n",
    "print (\"Day: %s\" % (s.group(2)))\n",
    "\n",
    "# So this will print \"2012\"\n",
    "print (\"year: %s\" % (s.group(3)))"
   ]
  },
  {
   "cell_type": "code",
   "execution_count": 53,
   "id": "martial-contents",
   "metadata": {},
   "outputs": [
    {
     "name": "stdout",
     "output_type": "stream",
     "text": [
      "<re.Match object; span=(121, 124), match='Mr.'>\n"
     ]
    }
   ],
   "source": [
    "res1 = re.search(r'Mr\\.', x)\n",
    "print(res1)"
   ]
  },
  {
   "cell_type": "code",
   "execution_count": 54,
   "id": "early-hayes",
   "metadata": {},
   "outputs": [
    {
     "name": "stdout",
     "output_type": "stream",
     "text": [
      "<re.Match object; span=(121, 132), match='Mr. Someone'>\n"
     ]
    }
   ],
   "source": [
    "res1 = re.search(r'Mrs?\\. [a-zA-Z]+', x)\n",
    "print(res1)"
   ]
  },
  {
   "cell_type": "code",
   "execution_count": 64,
   "id": "directed-business",
   "metadata": {},
   "outputs": [
    {
     "name": "stdout",
     "output_type": "stream",
     "text": [
      "['Mr. Someone', 'Mr. Anything']\n"
     ]
    }
   ],
   "source": [
    "res = re.findall(r'Mrs?\\. [a-zA-Z]+', x)\n",
    "print(res)"
   ]
  },
  {
   "cell_type": "code",
   "execution_count": 65,
   "id": "special-effects",
   "metadata": {},
   "outputs": [
    {
     "name": "stdout",
     "output_type": "stream",
     "text": [
      "abcedefghijklmnopqrstuvwxyz\n",
      "ABCDEFGHIJKLMNOPQRSTUVWXYZ\n",
      "some.one@gmail.com\n",
      "anything123@gmail.com\n",
      "9354-328-885\n",
      "9354.328.885\n",
      "Mr. Someone\n",
      "Mr. Anything\n"
     ]
    }
   ],
   "source": [
    "print(x)"
   ]
  },
  {
   "cell_type": "code",
   "execution_count": 58,
   "id": "normal-replacement",
   "metadata": {},
   "outputs": [
    {
     "name": "stdout",
     "output_type": "stream",
     "text": [
      "['ab', 'ce', 'de', 'fg', 'hi', 'jk', 'lm', 'no', 'pq', 'rs', 'tu', 'vw', 'xy', 'so', 'me', 'on', 'gm', 'ai', 'co', 'an', 'yt', 'hi', 'ng', 'gm', 'ai', 'co', 'om', 'eo', 'ne', 'ny', 'th', 'in']\n"
     ]
    }
   ],
   "source": [
    "res = re.findall(r'[a-z][a-z]', x)\n",
    "print(res)"
   ]
  },
  {
   "cell_type": "code",
   "execution_count": 66,
   "id": "unavailable-board",
   "metadata": {},
   "outputs": [
    {
     "name": "stdout",
     "output_type": "stream",
     "text": [
      "<callable_iterator object at 0x0000027E4A18BDC0>\n",
      "(0, 2)\n",
      "ab\n",
      "(2, 4)\n",
      "ce\n",
      "(4, 6)\n",
      "de\n",
      "(6, 8)\n",
      "fg\n",
      "(8, 10)\n",
      "hi\n",
      "(10, 12)\n",
      "jk\n",
      "(12, 14)\n",
      "lm\n",
      "(14, 16)\n",
      "no\n",
      "(16, 18)\n",
      "pq\n",
      "(18, 20)\n",
      "rs\n",
      "(20, 22)\n",
      "tu\n",
      "(22, 24)\n",
      "vw\n",
      "(24, 26)\n",
      "xy\n",
      "(55, 57)\n",
      "so\n",
      "(57, 59)\n",
      "me\n",
      "(60, 62)\n",
      "on\n",
      "(64, 66)\n",
      "gm\n",
      "(66, 68)\n",
      "ai\n",
      "(70, 72)\n",
      "co\n",
      "(74, 76)\n",
      "an\n",
      "(76, 78)\n",
      "yt\n",
      "(78, 80)\n",
      "hi\n",
      "(80, 82)\n",
      "ng\n",
      "(86, 88)\n",
      "gm\n",
      "(88, 90)\n",
      "ai\n",
      "(92, 94)\n",
      "co\n",
      "(127, 129)\n",
      "om\n",
      "(129, 131)\n",
      "eo\n",
      "(131, 133)\n",
      "ne\n",
      "(139, 141)\n",
      "ny\n",
      "(141, 143)\n",
      "th\n",
      "(143, 145)\n",
      "in\n"
     ]
    }
   ],
   "source": [
    "res = re.finditer(r'[a-z][a-z]', x)\n",
    "print(res)\n",
    "for i in res:\n",
    "    print(i.span())\n",
    "    print(i.group())"
   ]
  },
  {
   "cell_type": "code",
   "execution_count": 71,
   "id": "german-cleveland",
   "metadata": {},
   "outputs": [
    {
     "name": "stdout",
     "output_type": "stream",
     "text": [
      "<callable_iterator object at 0x0000027E4A1BA130>\n",
      "(122, 133)\n",
      "Mr. Someone\n",
      "\n",
      "(134, 146)\n",
      "Mr. Anything\n",
      "\n"
     ]
    }
   ],
   "source": [
    "res = re.finditer(r'Mrs?\\. [a-zA-Z]+', x)\n",
    "print(res)\n",
    "for i in res:\n",
    "    print(i.span())\n",
    "    print(i.group())\n",
    "    print()"
   ]
  },
  {
   "cell_type": "code",
   "execution_count": 69,
   "id": "smooth-recipe",
   "metadata": {},
   "outputs": [
    {
     "name": "stdout",
     "output_type": "stream",
     "text": [
      "['Mr. Someone', 'Mr. Anything']\n"
     ]
    }
   ],
   "source": [
    "res = re.findall(r'Mrs?\\. [a-zA-Z]+', x)\n",
    "print(res)"
   ]
  },
  {
   "cell_type": "code",
   "execution_count": 78,
   "id": "grateful-moderator",
   "metadata": {},
   "outputs": [
    {
     "name": "stdout",
     "output_type": "stream",
     "text": [
      "['I', 'was', 'born', 'on', 'June', '24', '2012']\n"
     ]
    }
   ],
   "source": [
    "string = \"I was born on June 24 2012\"\n",
    "res2 = re.split(r' ', string)      # white space is separator/splitter/delimiter\n",
    "print(res2)"
   ]
  },
  {
   "cell_type": "code",
   "execution_count": 81,
   "id": "velvet-harassment",
   "metadata": {},
   "outputs": [
    {
     "name": "stdout",
     "output_type": "stream",
     "text": [
      "I was July on June 24 2012\n"
     ]
    }
   ],
   "source": [
    "string = \"I was born on June 24 2012\"\n",
    "res = re.sub(r'[A-Z][a-zA-Z]{3}', 'July', string, 1)\n",
    "print(res)"
   ]
  },
  {
   "cell_type": "code",
   "execution_count": null,
   "id": "rational-smith",
   "metadata": {},
   "outputs": [],
   "source": []
  },
  {
   "cell_type": "code",
   "execution_count": null,
   "id": "occasional-treatment",
   "metadata": {},
   "outputs": [],
   "source": [
    "# Doubt"
   ]
  },
  {
   "cell_type": "code",
   "execution_count": 85,
   "id": "continental-anime",
   "metadata": {},
   "outputs": [],
   "source": [
    "import numpy as np"
   ]
  },
  {
   "cell_type": "code",
   "execution_count": 111,
   "id": "detailed-cutting",
   "metadata": {},
   "outputs": [],
   "source": [
    "a = np.array([[1,2,3,4],\n",
    "             [5,6,7,8]])"
   ]
  },
  {
   "cell_type": "code",
   "execution_count": 93,
   "id": "coated-death",
   "metadata": {},
   "outputs": [
    {
     "data": {
      "text/plain": [
       "array([5, 6, 7, 8])"
      ]
     },
     "execution_count": 93,
     "metadata": {},
     "output_type": "execute_result"
    }
   ],
   "source": [
    "a[1]"
   ]
  },
  {
   "cell_type": "code",
   "execution_count": 95,
   "id": "intellectual-military",
   "metadata": {},
   "outputs": [],
   "source": [
    "l = [[1,2,3,4],[5,6,7,8]]"
   ]
  },
  {
   "cell_type": "code",
   "execution_count": 113,
   "id": "assured-gregory",
   "metadata": {},
   "outputs": [],
   "source": [
    "for i in a:\n",
    "    for j in i:\n",
    "        if j == 0:\n",
    "            print(\"Zero is there...\")\n",
    "    break\n",
    "else:\n",
    "    print(\"There are no zeroes\")"
   ]
  },
  {
   "cell_type": "code",
   "execution_count": null,
   "id": "medieval-surrey",
   "metadata": {},
   "outputs": [],
   "source": []
  }
 ],
 "metadata": {
  "kernelspec": {
   "display_name": "Python 3 (ipykernel)",
   "language": "python",
   "name": "python3"
  },
  "language_info": {
   "codemirror_mode": {
    "name": "ipython",
    "version": 3
   },
   "file_extension": ".py",
   "mimetype": "text/x-python",
   "name": "python",
   "nbconvert_exporter": "python",
   "pygments_lexer": "ipython3",
   "version": "3.9.6"
  }
 },
 "nbformat": 4,
 "nbformat_minor": 5
}
